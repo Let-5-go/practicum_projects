{
 "cells": [
  {
   "cell_type": "markdown",
   "metadata": {},
   "source": [
    "<h1>Изучение закономерностей, определяющих успешность игры</h1>"
   ]
  },
  {
   "cell_type": "markdown",
   "metadata": {},
   "source": [
    "Из открытых источников доступны исторические данные о продажах игр, оценки пользователей и экспертов, жанры и платформы (например, Xbox или PlayStation). Мне нужно выявить определяющие успешность игры закономерности. Это позволит сделать ставку на потенциально популярный продукт и спланировать рекламные кампании."
   ]
  },
  {
   "cell_type": "markdown",
   "metadata": {},
   "source": [
    "<h2>Изучение данных</h2>"
   ]
  },
  {
   "cell_type": "code",
   "execution_count": 5,
   "metadata": {},
   "outputs": [],
   "source": [
    "import pandas as pd\n",
    "import matplotlib.pyplot as plt\n",
    "import seaborn as sns\n",
    "from scipy import stats as st\n",
    "import numpy as np"
   ]
  },
  {
   "cell_type": "code",
   "execution_count": 6,
   "metadata": {},
   "outputs": [
    {
     "data": {
      "text/html": [
       "<div>\n",
       "<style scoped>\n",
       "    .dataframe tbody tr th:only-of-type {\n",
       "        vertical-align: middle;\n",
       "    }\n",
       "\n",
       "    .dataframe tbody tr th {\n",
       "        vertical-align: top;\n",
       "    }\n",
       "\n",
       "    .dataframe thead th {\n",
       "        text-align: right;\n",
       "    }\n",
       "</style>\n",
       "<table border=\"1\" class=\"dataframe\">\n",
       "  <thead>\n",
       "    <tr style=\"text-align: right;\">\n",
       "      <th></th>\n",
       "      <th>Name</th>\n",
       "      <th>Platform</th>\n",
       "      <th>Year_of_Release</th>\n",
       "      <th>Genre</th>\n",
       "      <th>NA_sales</th>\n",
       "      <th>EU_sales</th>\n",
       "      <th>JP_sales</th>\n",
       "      <th>Other_sales</th>\n",
       "      <th>Critic_Score</th>\n",
       "      <th>User_Score</th>\n",
       "      <th>Rating</th>\n",
       "    </tr>\n",
       "  </thead>\n",
       "  <tbody>\n",
       "    <tr>\n",
       "      <th>0</th>\n",
       "      <td>Wii Sports</td>\n",
       "      <td>Wii</td>\n",
       "      <td>2006.0</td>\n",
       "      <td>Sports</td>\n",
       "      <td>41.36</td>\n",
       "      <td>28.96</td>\n",
       "      <td>3.77</td>\n",
       "      <td>8.45</td>\n",
       "      <td>76.0</td>\n",
       "      <td>8</td>\n",
       "      <td>E</td>\n",
       "    </tr>\n",
       "    <tr>\n",
       "      <th>1</th>\n",
       "      <td>Super Mario Bros.</td>\n",
       "      <td>NES</td>\n",
       "      <td>1985.0</td>\n",
       "      <td>Platform</td>\n",
       "      <td>29.08</td>\n",
       "      <td>3.58</td>\n",
       "      <td>6.81</td>\n",
       "      <td>0.77</td>\n",
       "      <td>NaN</td>\n",
       "      <td>NaN</td>\n",
       "      <td>NaN</td>\n",
       "    </tr>\n",
       "    <tr>\n",
       "      <th>2</th>\n",
       "      <td>Mario Kart Wii</td>\n",
       "      <td>Wii</td>\n",
       "      <td>2008.0</td>\n",
       "      <td>Racing</td>\n",
       "      <td>15.68</td>\n",
       "      <td>12.76</td>\n",
       "      <td>3.79</td>\n",
       "      <td>3.29</td>\n",
       "      <td>82.0</td>\n",
       "      <td>8.3</td>\n",
       "      <td>E</td>\n",
       "    </tr>\n",
       "    <tr>\n",
       "      <th>3</th>\n",
       "      <td>Wii Sports Resort</td>\n",
       "      <td>Wii</td>\n",
       "      <td>2009.0</td>\n",
       "      <td>Sports</td>\n",
       "      <td>15.61</td>\n",
       "      <td>10.93</td>\n",
       "      <td>3.28</td>\n",
       "      <td>2.95</td>\n",
       "      <td>80.0</td>\n",
       "      <td>8</td>\n",
       "      <td>E</td>\n",
       "    </tr>\n",
       "    <tr>\n",
       "      <th>4</th>\n",
       "      <td>Pokemon Red/Pokemon Blue</td>\n",
       "      <td>GB</td>\n",
       "      <td>1996.0</td>\n",
       "      <td>Role-Playing</td>\n",
       "      <td>11.27</td>\n",
       "      <td>8.89</td>\n",
       "      <td>10.22</td>\n",
       "      <td>1.00</td>\n",
       "      <td>NaN</td>\n",
       "      <td>NaN</td>\n",
       "      <td>NaN</td>\n",
       "    </tr>\n",
       "  </tbody>\n",
       "</table>\n",
       "</div>"
      ],
      "text/plain": [
       "                       Name Platform  Year_of_Release         Genre  NA_sales  \\\n",
       "0                Wii Sports      Wii           2006.0        Sports     41.36   \n",
       "1         Super Mario Bros.      NES           1985.0      Platform     29.08   \n",
       "2            Mario Kart Wii      Wii           2008.0        Racing     15.68   \n",
       "3         Wii Sports Resort      Wii           2009.0        Sports     15.61   \n",
       "4  Pokemon Red/Pokemon Blue       GB           1996.0  Role-Playing     11.27   \n",
       "\n",
       "   EU_sales  JP_sales  Other_sales  Critic_Score User_Score Rating  \n",
       "0     28.96      3.77         8.45          76.0          8      E  \n",
       "1      3.58      6.81         0.77           NaN        NaN    NaN  \n",
       "2     12.76      3.79         3.29          82.0        8.3      E  \n",
       "3     10.93      3.28         2.95          80.0          8      E  \n",
       "4      8.89     10.22         1.00           NaN        NaN    NaN  "
      ]
     },
     "execution_count": 6,
     "metadata": {},
     "output_type": "execute_result"
    }
   ],
   "source": [
    "games = pd.read_csv('games.csv')\n",
    "games.head()"
   ]
  },
  {
   "cell_type": "code",
   "execution_count": 7,
   "metadata": {},
   "outputs": [
    {
     "name": "stdout",
     "output_type": "stream",
     "text": [
      "<class 'pandas.core.frame.DataFrame'>\n",
      "RangeIndex: 16715 entries, 0 to 16714\n",
      "Data columns (total 11 columns):\n",
      " #   Column           Non-Null Count  Dtype  \n",
      "---  ------           --------------  -----  \n",
      " 0   Name             16713 non-null  object \n",
      " 1   Platform         16715 non-null  object \n",
      " 2   Year_of_Release  16446 non-null  float64\n",
      " 3   Genre            16713 non-null  object \n",
      " 4   NA_sales         16715 non-null  float64\n",
      " 5   EU_sales         16715 non-null  float64\n",
      " 6   JP_sales         16715 non-null  float64\n",
      " 7   Other_sales      16715 non-null  float64\n",
      " 8   Critic_Score     8137 non-null   float64\n",
      " 9   User_Score       10014 non-null  object \n",
      " 10  Rating           9949 non-null   object \n",
      "dtypes: float64(6), object(5)\n",
      "memory usage: 1.4+ MB\n"
     ]
    }
   ],
   "source": [
    "games.info()"
   ]
  },
  {
   "cell_type": "markdown",
   "metadata": {},
   "source": [
    "В целом вид данных понятен, видны пропуски и неверные типы данных."
   ]
  },
  {
   "cell_type": "markdown",
   "metadata": {},
   "source": [
    "<h2>Предобработка данных</h2>"
   ]
  },
  {
   "cell_type": "markdown",
   "metadata": {},
   "source": [
    "<h3>Обработка пропусков</h3>"
   ]
  },
  {
   "cell_type": "code",
   "execution_count": 8,
   "metadata": {},
   "outputs": [],
   "source": [
    "games.columns = games.columns.str.lower()"
   ]
  },
  {
   "cell_type": "code",
   "execution_count": 9,
   "metadata": {},
   "outputs": [
    {
     "data": {
      "text/html": [
       "<div>\n",
       "<style scoped>\n",
       "    .dataframe tbody tr th:only-of-type {\n",
       "        vertical-align: middle;\n",
       "    }\n",
       "\n",
       "    .dataframe tbody tr th {\n",
       "        vertical-align: top;\n",
       "    }\n",
       "\n",
       "    .dataframe thead th {\n",
       "        text-align: right;\n",
       "    }\n",
       "</style>\n",
       "<table border=\"1\" class=\"dataframe\">\n",
       "  <thead>\n",
       "    <tr style=\"text-align: right;\">\n",
       "      <th></th>\n",
       "      <th>name</th>\n",
       "      <th>platform</th>\n",
       "      <th>year_of_release</th>\n",
       "      <th>genre</th>\n",
       "      <th>na_sales</th>\n",
       "      <th>eu_sales</th>\n",
       "      <th>jp_sales</th>\n",
       "      <th>other_sales</th>\n",
       "      <th>critic_score</th>\n",
       "      <th>user_score</th>\n",
       "      <th>rating</th>\n",
       "    </tr>\n",
       "  </thead>\n",
       "  <tbody>\n",
       "    <tr>\n",
       "      <th>659</th>\n",
       "      <td>NaN</td>\n",
       "      <td>GEN</td>\n",
       "      <td>1993.0</td>\n",
       "      <td>NaN</td>\n",
       "      <td>1.78</td>\n",
       "      <td>0.53</td>\n",
       "      <td>0.00</td>\n",
       "      <td>0.08</td>\n",
       "      <td>NaN</td>\n",
       "      <td>NaN</td>\n",
       "      <td>NaN</td>\n",
       "    </tr>\n",
       "    <tr>\n",
       "      <th>14244</th>\n",
       "      <td>NaN</td>\n",
       "      <td>GEN</td>\n",
       "      <td>1993.0</td>\n",
       "      <td>NaN</td>\n",
       "      <td>0.00</td>\n",
       "      <td>0.00</td>\n",
       "      <td>0.03</td>\n",
       "      <td>0.00</td>\n",
       "      <td>NaN</td>\n",
       "      <td>NaN</td>\n",
       "      <td>NaN</td>\n",
       "    </tr>\n",
       "  </tbody>\n",
       "</table>\n",
       "</div>"
      ],
      "text/plain": [
       "      name platform  year_of_release genre  na_sales  eu_sales  jp_sales  \\\n",
       "659    NaN      GEN           1993.0   NaN      1.78      0.53      0.00   \n",
       "14244  NaN      GEN           1993.0   NaN      0.00      0.00      0.03   \n",
       "\n",
       "       other_sales  critic_score user_score rating  \n",
       "659           0.08           NaN        NaN    NaN  \n",
       "14244         0.00           NaN        NaN    NaN  "
      ]
     },
     "metadata": {},
     "output_type": "display_data"
    }
   ],
   "source": [
    "display(games.query('name.isna()'))\n",
    "games = games.dropna(subset=['name']).reset_index(drop=True)"
   ]
  },
  {
   "cell_type": "markdown",
   "metadata": {},
   "source": [
    "Всего 2 строки не содержат названия и жанра, они также не содержат информацию о рейтинге, поэтому я не буду учитывать их в исследовании и удалю."
   ]
  },
  {
   "cell_type": "code",
   "execution_count": 10,
   "metadata": {
    "scrolled": true
   },
   "outputs": [],
   "source": [
    "games.loc[games['user_score'] == 'tbd', 'user_score'] = float('NaN')"
   ]
  },
  {
   "cell_type": "markdown",
   "metadata": {},
   "source": [
    "Заполнил пропуски в данных:\n",
    "<ul>\n",
    "<li>Аббревиатура tbd, которой заполнены некоторые строки в столбце с оценкой пользователя, означает \"to be determined\" и используется в качестве заполнительного термина для информации, которую пользователь предоставит в будущем. Я заменил это значение на NaN, так как для нас эта аббревиатура значения не имеет.</li>\n",
    "<li>Не заполнил пропуски в оценках критиков и пользователей, так как их много и это может негативно повлиять на точность исследования.</li>\n",
    "<li>Не стал заполнять значения года и рейтинга от организации ESRB, так как это категориальные значения, их не получится просто заполнить медианной.</li>\n",
    "</ul>\n",
    "Возможные причины пропусков:\n",
    "<ul>\n",
    "<li>Пропуски в значении года выпуска может быть технической ошибкой, так как значение отсутствует у небольшго количества игр.</li>\n",
    "<li>Пропуски в оценке критиков и пользователей не случайны. Вероятнее всего, их нет у непопулярных игр, ведь для формирования рейтингов критиков и пользователей нужен массив оценок, из которых уже будет рассчитано финальное среднее.</li>\n",
    "<li>Рейтинг ESRB могут иметь не все игры, так как он не является обязательным для выпуска игры. Сама организация ESRB появилась в 1984 году, так что игры, выпущенные до этого года, по умолчанию не имеют этого рейтинга.</li>\n",
    "</ul>"
   ]
  },
  {
   "cell_type": "markdown",
   "metadata": {},
   "source": [
    "<h3>Замена форматов данных</h3>"
   ]
  },
  {
   "cell_type": "code",
   "execution_count": 11,
   "metadata": {},
   "outputs": [
    {
     "data": {
      "text/plain": [
       "0"
      ]
     },
     "metadata": {},
     "output_type": "display_data"
    }
   ],
   "source": [
    "games['year_of_release'] = games['year_of_release'].astype('Int64')\n",
    "games['user_score'] = games['user_score'].astype('float')\n",
    "\n",
    "display((games['critic_score'] != games['critic_score'].astype('Int64')).sum())\n",
    "games['critic_score'] = games['critic_score'].astype('Int64')"
   ]
  },
  {
   "cell_type": "code",
   "execution_count": 12,
   "metadata": {},
   "outputs": [
    {
     "name": "stdout",
     "output_type": "stream",
     "text": [
      "<class 'pandas.core.frame.DataFrame'>\n",
      "RangeIndex: 16713 entries, 0 to 16712\n",
      "Data columns (total 11 columns):\n",
      " #   Column           Non-Null Count  Dtype  \n",
      "---  ------           --------------  -----  \n",
      " 0   name             16713 non-null  object \n",
      " 1   platform         16713 non-null  object \n",
      " 2   year_of_release  16444 non-null  Int64  \n",
      " 3   genre            16713 non-null  object \n",
      " 4   na_sales         16713 non-null  float64\n",
      " 5   eu_sales         16713 non-null  float64\n",
      " 6   jp_sales         16713 non-null  float64\n",
      " 7   other_sales      16713 non-null  float64\n",
      " 8   critic_score     8137 non-null   Int64  \n",
      " 9   user_score       7590 non-null   float64\n",
      " 10  rating           9949 non-null   object \n",
      "dtypes: Int64(2), float64(5), object(4)\n",
      "memory usage: 1.4+ MB\n"
     ]
    }
   ],
   "source": [
    "games.info()"
   ]
  },
  {
   "cell_type": "markdown",
   "metadata": {},
   "source": [
    "Поменял формат данных: \n",
    "<ul>\n",
    "<li>Перевел значение года в целочисленное значение.</li>\n",
    "<li>Проверил, что все оценки критиков не имеют дробной части и перевел их в целочисленные значения.</li>\n",
    "</ul>"
   ]
  },
  {
   "cell_type": "code",
   "execution_count": 13,
   "metadata": {},
   "outputs": [
    {
     "data": {
      "text/plain": [
       "0"
      ]
     },
     "execution_count": 13,
     "metadata": {},
     "output_type": "execute_result"
    }
   ],
   "source": [
    "games.duplicated().sum()"
   ]
  },
  {
   "cell_type": "code",
   "execution_count": 14,
   "metadata": {},
   "outputs": [
    {
     "data": {
      "text/plain": [
       "1"
      ]
     },
     "metadata": {},
     "output_type": "display_data"
    },
    {
     "data": {
      "text/plain": [
       "0"
      ]
     },
     "execution_count": 14,
     "metadata": {},
     "output_type": "execute_result"
    }
   ],
   "source": [
    "display(games.duplicated(subset=['name', 'platform', 'year_of_release']).sum())\n",
    "games = games.drop_duplicates(subset=['name', 'platform', 'year_of_release'])\n",
    "games.duplicated(subset=['name', 'platform', 'year_of_release']).sum()"
   ]
  },
  {
   "cell_type": "markdown",
   "metadata": {},
   "source": [
    "<h3>Добавление нового столбца</h3>"
   ]
  },
  {
   "cell_type": "code",
   "execution_count": 15,
   "metadata": {},
   "outputs": [],
   "source": [
    "games['total_sales'] = games[['na_sales','eu_sales','jp_sales', 'other_sales']].sum(axis = 1)"
   ]
  },
  {
   "cell_type": "markdown",
   "metadata": {},
   "source": [
    "По итогу второго шага:\n",
    "<ul>\n",
    "<li>Заполнил пропуски в данных.</li>\n",
    "<li>Заменил неверные форматы данных.</li>\n",
    "<li>Создал столбец с общей выручкой.</li>\n",
    "<li>Удалил дубликат.</li>\n",
    "</ul>"
   ]
  },
  {
   "cell_type": "markdown",
   "metadata": {},
   "source": [
    "<h2>Исследовательский анализ данных</h2>"
   ]
  },
  {
   "cell_type": "markdown",
   "metadata": {},
   "source": [
    "<h3>Количество выпущенных игр в разные годы</h3>"
   ]
  },
  {
   "cell_type": "code",
   "execution_count": 40,
   "metadata": {},
   "outputs": [
    {
     "data": {
      "image/png": "[encoded data removed]",
      "text/plain": [
       "<Figure size 640x480 with 1 Axes>"
      ]
     },
     "metadata": {},
     "output_type": "display_data"
    }
   ],
   "source": [
    "games.groupby('year_of_release')['name'].count().plot(grid=True)\n",
    "plt.title('Кол-во выпущенных игр по годам')\n",
    "plt.xlabel('год выпуска')\n",
    "plt.ylabel('количество игр')\n",
    "plt.show()"
   ]
  },
  {
   "cell_type": "markdown",
   "metadata": {},
   "source": [
    "Видно, что с годами количество выпущенных игр растет и достигает своего пика около 2010 года. <br>\n",
    "Для анализа не требуются данные за всё время выпуска игр, так как со временем пользовательское поведение и предпочтения меняются, так что слишком старые данные могут испортить прогноз."
   ]
  },
  {
   "cell_type": "markdown",
   "metadata": {},
   "source": [
    "<h3>Популярность платформ с течением времени</h3>"
   ]
  },
  {
   "cell_type": "code",
   "execution_count": 17,
   "metadata": {},
   "outputs": [
    {
     "data": {
      "text/plain": [
       "platform\n",
       "PS2     1255.77\n",
       "X360     971.42\n",
       "PS3      939.64\n",
       "Wii      907.51\n",
       "DS       806.12\n",
       "PS       730.86\n",
       "GBA      317.85\n",
       "PS4      314.14\n",
       "PSP      294.05\n",
       "PC       259.52\n",
       "Name: total_sales, dtype: float64"
      ]
     },
     "execution_count": 17,
     "metadata": {},
     "output_type": "execute_result"
    }
   ],
   "source": [
    "games.groupby('platform')['total_sales'].sum().sort_values(ascending=False).head(10)"
   ]
  },
  {
   "cell_type": "code",
   "execution_count": 18,
   "metadata": {},
   "outputs": [
    {
     "data": {
      "image/png": "[encoded data removed]",
      "text/plain": [
       "<Figure size 1300x500 with 1 Axes>"
      ]
     },
     "metadata": {},
     "output_type": "display_data"
    }
   ],
   "source": [
    "plt.figure(figsize=(13, 5))\n",
    "\n",
    "for k in games.groupby('platform', as_index=False)['total_sales'].sum().sort_values(by='total_sales', ascending=False)['platform'].head(5):\n",
    "    games.query('platform == @k').groupby('year_of_release')['total_sales'].sum().plot.line()\n",
    "    plt.legend(k)\n",
    "\n",
    "plt.legend(games.groupby('platform', as_index=False)['total_sales'].sum().sort_values(by='total_sales', ascending=False)['platform'].head(5))\n",
    "plt.title('Общее кол-во продаж игр по разным платформам по годам')\n",
    "plt.xlabel('год выпуска игры')\n",
    "plt.ylabel('общее количество продаж (в млн.)')\n",
    "plt.show()"
   ]
  },
  {
   "cell_type": "markdown",
   "metadata": {},
   "source": [
    "Если смотреть на распределение продаж игр пяти платформ с наибольшими сумарными продажами, то можно увидеть схожесть в длине графиков по оси X. В среднем платформа живет 10 лет.<br>\n",
    "Исходя из этой информации, будем брать данные по 2006 год, то есть за последние 10 лет."
   ]
  },
  {
   "cell_type": "code",
   "execution_count": 19,
   "metadata": {},
   "outputs": [
    {
     "name": "stderr",
     "output_type": "stream",
     "text": [
      "C:\\Users\\stepa\\AppData\\Local\\Temp\\ipykernel_10544\\769772443.py:1: RuntimeWarning: Engine has switched to 'python' because numexpr does not support extension array dtypes. Please set your engine to python manually.\n",
      "  games = games.query('2005 < year_of_release')\n",
      "C:\\Users\\stepa\\AppData\\Local\\Temp\\ipykernel_10544\\769772443.py:2: RuntimeWarning: Engine has switched to 'python' because numexpr does not support extension array dtypes. Please set your engine to python manually.\n",
      "  modern_platforms = games.query('year_of_release > 2014').groupby('platform', as_index=False)['total_sales'].sum().query('total_sales > 3')['platform']\n"
     ]
    }
   ],
   "source": [
    "games = games.query('2005 < year_of_release')\n",
    "modern_platforms = games.query('year_of_release > 2014').groupby('platform', as_index=False)['total_sales'].sum().query('total_sales > 3')['platform']\n",
    "\n",
    "games = games.query('platform in @modern_platforms')"
   ]
  },
  {
   "cell_type": "markdown",
   "metadata": {},
   "source": [
    "<h3>Популярность плтаформ в актуальном периоде</h3>"
   ]
  },
  {
   "cell_type": "code",
   "execution_count": 20,
   "metadata": {},
   "outputs": [
    {
     "data": {
      "image/png": "[encoded data removed]",
      "text/plain": [
       "<Figure size 1300x500 with 1 Axes>"
      ]
     },
     "metadata": {},
     "output_type": "display_data"
    }
   ],
   "source": [
    "plt.figure(figsize=(13, 5))\n",
    "\n",
    "for k in games.groupby('platform', as_index=False)['total_sales'].sum().sort_values(by='total_sales', ascending=False)['platform'].head(10):\n",
    "    games.query('platform == @k').groupby('year_of_release')['total_sales'].sum().plot.line()\n",
    "    plt.legend(k)\n",
    "\n",
    "plt.legend(games.groupby('platform', as_index=False)['total_sales'].sum().sort_values(by='total_sales', ascending=False)['platform'].head(10))\n",
    "plt.title('Общее кол-во продаж игр по разным платформам по годам')\n",
    "plt.xlabel('год выпуска игры')\n",
    "plt.ylabel('общее кол-во продаж (в млн.)')\n",
    "plt.show()"
   ]
  },
  {
   "cell_type": "markdown",
   "metadata": {},
   "source": [
    "Для того, чтобы найти актуальные лидирующие платформы, я:\n",
    "<ul>\n",
    "<li>Взял данные с 2006 года включительно.</li>\n",
    "<li>Убрал платформы, у которых за последние 2 года менее 3 млн. продаж, чтобы не брать в расчет \"мертвые\" платформы.</li>\n",
    "<li>Построил график распределения продаж игр по оставшимся платформам.</li>\n",
    "</ul>\n",
    "Исходя из графика, можно сделать вывод, что за последние 2-3 года снижаются продажи игр практически по всем платформам кроме XboxOne и PS4. За 2016 год видно снижение продаж всех платформ, вероятнее всего, это связано с неполнотой данных.<br>\n",
    "Потенциально прибыльные платформы - PS4 и XboxOne. Они являются лидерами продаж в 2015 и 2016 годах, только у них наблюдался рост продаж в 2015 году."
   ]
  },
  {
   "cell_type": "markdown",
   "metadata": {},
   "source": [
    "<h3>Распределение общего количества продаж игр в зависимости от платформы</h3>"
   ]
  },
  {
   "cell_type": "code",
   "execution_count": 39,
   "metadata": {},
   "outputs": [
    {
     "data": {
      "image/png": "[encoded data removed]",
      "text/plain": [
       "<Figure size 1500x700 with 1 Axes>"
      ]
     },
     "metadata": {},
     "output_type": "display_data"
    }
   ],
   "source": [
    "plt.figure(figsize=(15,7))\n",
    "\n",
    "sns.boxplot(data=games, x='platform', y='total_sales')\n",
    "\n",
    "plt.title('Распределение кол-ва продаж игр в зависимости от платформы')\n",
    "plt.xlabel('название платформы')\n",
    "plt.ylabel('общее количество продаж (в млн.)')\n",
    "plt.show()"
   ]
  },
  {
   "cell_type": "markdown",
   "metadata": {},
   "source": [
    "<p>Графики по разным платформам выглядят похоже. Очень малая медиана и огромные выбросы. Вероятнее всего, это связано со спецификой игровой индустрии. Выпускается много игр, однако большинство из них практически не имеет продаж. Все продажи сосредоточены у небольшого количества хитов.</p>\n",
    "Ограничим общий тираж значением в 5 млн., чтобы уменьшить влияние выбросов на исследование. Таким образом, мы лишимся всего 2% данных."
   ]
  },
  {
   "cell_type": "code",
   "execution_count": 38,
   "metadata": {},
   "outputs": [
    {
     "data": {
      "image/png": "[encoded data removed]",
      "text/plain": [
       "<Figure size 1500x700 with 1 Axes>"
      ]
     },
     "metadata": {},
     "output_type": "display_data"
    }
   ],
   "source": [
    "games = games.query('total_sales < 5')\n",
    "\n",
    "plt.figure(figsize=(15,7))\n",
    "\n",
    "sns.boxplot(data=games, x='platform', y='total_sales')\n",
    "\n",
    "plt.title('Распределение кол-ва продаж игр в зависимости от платформы')\n",
    "plt.xlabel('название платформы')\n",
    "plt.ylabel('общее количество продаж (в млн.)')\n",
    "plt.show()"
   ]
  },
  {
   "cell_type": "markdown",
   "metadata": {},
   "source": [
    "Теперь графики выглядят более наглядно."
   ]
  },
  {
   "cell_type": "markdown",
   "metadata": {},
   "source": [
    "<h3>Влияние оценок пользователей и критиков на общее количество продаж</h3>"
   ]
  },
  {
   "cell_type": "code",
   "execution_count": 37,
   "metadata": {},
   "outputs": [
    {
     "data": {
      "image/png": "[encoded data removed]",
      "text/plain": [
       "<Figure size 640x480 with 1 Axes>"
      ]
     },
     "metadata": {},
     "output_type": "display_data"
    }
   ],
   "source": [
    "games.query('platform == \"PS4\"').groupby('user_score', as_index=False)['total_sales'].mean().plot(kind='scatter', x='user_score', y='total_sales')\n",
    "plt.title('Среднее кол-во продаж игр в зависимости от оценки пользователей (PS4)')\n",
    "plt.xlabel('оценка пользователей')\n",
    "plt.ylabel('среднее кол-во продаж (в млн.)')\n",
    "plt.show()"
   ]
  },
  {
   "cell_type": "code",
   "execution_count": 42,
   "metadata": {},
   "outputs": [
    {
     "data": {
      "image/png": "[encoded data removed]",
      "text/plain": [
       "<Figure size 640x480 with 1 Axes>"
      ]
     },
     "metadata": {},
     "output_type": "display_data"
    }
   ],
   "source": [
    "games.query('platform == \"PS4\"').groupby('critic_score', as_index=False)['total_sales'].mean().plot(kind='scatter', x='critic_score', y='total_sales')\n",
    "plt.title('Среднее кол-во продаж игр в зависимости от оценки критиков (PS4)')\n",
    "plt.xlabel('оценка критиков')\n",
    "plt.ylabel('среднее кол-во продаж (в млн.)')\n",
    "plt.show()"
   ]
  },
  {
   "cell_type": "code",
   "execution_count": 46,
   "metadata": {},
   "outputs": [
    {
     "name": "stderr",
     "output_type": "stream",
     "text": [
      "C:\\Users\\stepa\\AppData\\Local\\Temp\\ipykernel_10544\\3655578133.py:1: FutureWarning: Series.__getitem__ treating keys as positions is deprecated. In a future version, integer keys will always be treated as labels (consistent with DataFrame behavior). To access a value by position, use `ser.iloc[pos]`\n",
      "  games.query('platform == \"PS4\"').drop(['name','platform','genre', 'rating'], axis=1).groupby('critic_score', as_index=False).mean().corr()['total_sales'][0]\n"
     ]
    },
    {
     "data": {
      "text/plain": [
       "0.7073986052672906"
      ]
     },
     "execution_count": 46,
     "metadata": {},
     "output_type": "execute_result"
    }
   ],
   "source": [
    "games.query('platform == \"PS4\"').drop(['name','platform','genre', 'rating'], axis=1).groupby('critic_score', as_index=False).mean().corr()['total_sales'][0]"
   ]
  },
  {
   "cell_type": "code",
   "execution_count": 47,
   "metadata": {},
   "outputs": [
    {
     "name": "stderr",
     "output_type": "stream",
     "text": [
      "C:\\Users\\stepa\\AppData\\Local\\Temp\\ipykernel_10544\\3877499325.py:1: FutureWarning: Series.__getitem__ treating keys as positions is deprecated. In a future version, integer keys will always be treated as labels (consistent with DataFrame behavior). To access a value by position, use `ser.iloc[pos]`\n",
      "  games.query('platform == \"PS4\"').drop(['name','platform','genre', 'rating'], axis=1).groupby('user_score', as_index=False).mean().corr()['total_sales'][0]\n"
     ]
    },
    {
     "data": {
      "text/plain": [
       "0.2620035341948498"
      ]
     },
     "execution_count": 47,
     "metadata": {},
     "output_type": "execute_result"
    }
   ],
   "source": [
    "games.query('platform == \"PS4\"').drop(['name','platform','genre', 'rating'], axis=1).groupby('user_score', as_index=False).mean().corr()['total_sales'][0]"
   ]
  },
  {
   "cell_type": "markdown",
   "metadata": {},
   "source": [
    "Если смотреть на корреляцию оценок критиков и пользователей с средним общим количеством продаж игр на платформе PS4, то можно сделать вывод, что: \n",
    "<ul>\n",
    "<li>оценки пользователей практически не коррелируют с общим количеством продаж;</li>\n",
    "<li>оценки критиков имеют средний уровень корреляции, то есть влияют на общее количество продаж.</li>\n",
    "</ul>"
   ]
  },
  {
   "cell_type": "code",
   "execution_count": 50,
   "metadata": {},
   "outputs": [
    {
     "data": {
      "image/png": "[encoded data removed]",
      "text/plain": [
       "<Figure size 640x480 with 1 Axes>"
      ]
     },
     "metadata": {},
     "output_type": "display_data"
    }
   ],
   "source": [
    "games.query('platform == \"XOne\"').groupby('user_score', as_index=False)['total_sales'].mean().plot(kind='scatter', x='user_score', y='total_sales')\n",
    "plt.title('Среднее кол-во продаж игр в зависимости от оценки пользователей (XboxOne)')\n",
    "plt.xlabel('оценка пользователей')\n",
    "plt.ylabel('среднее кол-во продаж (в млн.)')\n",
    "plt.show()"
   ]
  },
  {
   "cell_type": "code",
   "execution_count": 52,
   "metadata": {},
   "outputs": [
    {
     "data": {
      "image/png": "[encoded data removed]",
      "text/plain": [
       "<Figure size 640x480 with 1 Axes>"
      ]
     },
     "metadata": {},
     "output_type": "display_data"
    }
   ],
   "source": [
    "games.query('platform == \"XOne\"').groupby('critic_score', as_index=False)['total_sales'].mean().plot(kind='scatter', x='critic_score', y='total_sales')\n",
    "plt.title('Среднее кол-во продаж игр в зависимости от оценки критиков (XboxOne)')\n",
    "plt.xlabel('оценка критиков')\n",
    "plt.ylabel('среднее кол-во продаж (в млн.)')\n",
    "plt.show()"
   ]
  },
  {
   "cell_type": "code",
   "execution_count": 53,
   "metadata": {},
   "outputs": [
    {
     "name": "stderr",
     "output_type": "stream",
     "text": [
      "C:\\Users\\stepa\\AppData\\Local\\Temp\\ipykernel_10544\\57258659.py:1: FutureWarning: Series.__getitem__ treating keys as positions is deprecated. In a future version, integer keys will always be treated as labels (consistent with DataFrame behavior). To access a value by position, use `ser.iloc[pos]`\n",
      "  games.query('platform == \"XOne\"').drop(['name','platform','genre', 'rating'], axis=1).groupby('critic_score', as_index=False).mean().corr()['total_sales'][0]\n"
     ]
    },
    {
     "data": {
      "text/plain": [
       "0.6846935695919739"
      ]
     },
     "execution_count": 53,
     "metadata": {},
     "output_type": "execute_result"
    }
   ],
   "source": [
    "games.query('platform == \"XOne\"').drop(['name','platform','genre', 'rating'], axis=1).groupby('critic_score', as_index=False).mean().corr()['total_sales'][0]"
   ]
  },
  {
   "cell_type": "code",
   "execution_count": 54,
   "metadata": {},
   "outputs": [
    {
     "name": "stderr",
     "output_type": "stream",
     "text": [
      "C:\\Users\\stepa\\AppData\\Local\\Temp\\ipykernel_10544\\573945216.py:1: FutureWarning: Series.__getitem__ treating keys as positions is deprecated. In a future version, integer keys will always be treated as labels (consistent with DataFrame behavior). To access a value by position, use `ser.iloc[pos]`\n",
      "  games.query('platform == \"XOne\"').drop(['name','platform','genre', 'rating'], axis=1).groupby('user_score', as_index=False).mean().corr()['total_sales'][0]\n"
     ]
    },
    {
     "data": {
      "text/plain": [
       "-0.03893322819924997"
      ]
     },
     "execution_count": 54,
     "metadata": {},
     "output_type": "execute_result"
    }
   ],
   "source": [
    "games.query('platform == \"XOne\"').drop(['name','platform','genre', 'rating'], axis=1).groupby('user_score', as_index=False).mean().corr()['total_sales'][0]"
   ]
  },
  {
   "cell_type": "markdown",
   "metadata": {},
   "source": [
    "На примере второй популярной платформы XboxOne, можно подтвердить выводы:\n",
    "<ul>\n",
    "<li>оценки пользователей не коррелируют с общим количеством продаж;</li>\n",
    "<li>оценки критиков имеют средний уровень корреляции, то есть влияют на общее количество продаж.</li>\n",
    "</ul>"
   ]
  },
  {
   "cell_type": "markdown",
   "metadata": {},
   "source": [
    "<h3>Общее распределение игр по жанрам</h3>"
   ]
  },
  {
   "cell_type": "code",
   "execution_count": 55,
   "metadata": {},
   "outputs": [
    {
     "data": {
      "text/plain": [
       "genre\n",
       "Action          1442\n",
       "Sports           592\n",
       "Shooter          536\n",
       "Role-Playing     512\n",
       "Misc             399\n",
       "Adventure        351\n",
       "Racing           297\n",
       "Strategy         213\n",
       "Fighting         203\n",
       "Simulation       196\n",
       "Platform         138\n",
       "Puzzle            61\n",
       "Name: count, dtype: int64"
      ]
     },
     "execution_count": 55,
     "metadata": {},
     "output_type": "execute_result"
    }
   ],
   "source": [
    "games['genre'].value_counts()"
   ]
  },
  {
   "cell_type": "code",
   "execution_count": 56,
   "metadata": {},
   "outputs": [
    {
     "data": {
      "text/plain": [
       "genre\n",
       "Shooter         0.340\n",
       "Fighting        0.300\n",
       "Sports          0.250\n",
       "Platform        0.235\n",
       "Racing          0.190\n",
       "Action          0.170\n",
       "Role-Playing    0.170\n",
       "Misc            0.150\n",
       "Simulation      0.120\n",
       "Puzzle          0.050\n",
       "Strategy        0.050\n",
       "Adventure       0.040\n",
       "Name: total_sales, dtype: float64"
      ]
     },
     "execution_count": 56,
     "metadata": {},
     "output_type": "execute_result"
    }
   ],
   "source": [
    "games.groupby('genre')['total_sales'].median().sort_values(ascending=False)"
   ]
  },
  {
   "cell_type": "markdown",
   "metadata": {},
   "source": [
    "Самыми популярными жанрами являются экшен, спорт и шутеры, а самыми непопулярными - пазл, платформеры и симуляторы.<br>\n",
    "По медианному уровню продаж лидируют шутеры, файтинги и спортивные игры. Наименьшие средние продажи у игр жанра приключение, стратегия и пазл."
   ]
  },
  {
   "cell_type": "markdown",
   "metadata": {},
   "source": [
    "<h2>Портрет пользователя каждого региона</h2>"
   ]
  },
  {
   "cell_type": "markdown",
   "metadata": {},
   "source": [
    "<h3>Самые популярные платформы в разных регионах</h3>"
   ]
  },
  {
   "cell_type": "code",
   "execution_count": 57,
   "metadata": {},
   "outputs": [
    {
     "data": {
      "text/plain": [
       "Text(0.5, 0, 'всего продаж в регионе (в млн.)')"
      ]
     },
     "execution_count": 57,
     "metadata": {},
     "output_type": "execute_result"
    },
    {
     "data": {
      "image/png": "[encoded data removed]",
      "text/plain": [
       "<Figure size 640x480 with 1 Axes>"
      ]
     },
     "metadata": {},
     "output_type": "display_data"
    }
   ],
   "source": [
    "games.groupby('platform')['na_sales'].sum().sort_values(ascending=False).head().plot(kind='barh')\n",
    "plt.title('Самые популярные платформы в Северной Америке')\n",
    "plt.ylabel('название платформы')\n",
    "plt.xlabel('всего продаж в регионе (в млн.)')\n",
    "plt.show()"
   ]
  },
  {
   "cell_type": "code",
   "execution_count": 58,
   "metadata": {},
   "outputs": [
    {
     "data": {
      "image/png": "[encoded data removed]",
      "text/plain": [
       "<Figure size 640x480 with 1 Axes>"
      ]
     },
     "metadata": {},
     "output_type": "display_data"
    }
   ],
   "source": [
    "games.groupby('platform')['eu_sales'].sum().sort_values(ascending=False).head().plot(kind='barh')\n",
    "plt.title('Самые популярные платформы в Европе')\n",
    "plt.ylabel('название платформы')\n",
    "plt.xlabel('всего продаж в регионе (в млн.)')\n",
    "plt.show()"
   ]
  },
  {
   "cell_type": "code",
   "execution_count": 59,
   "metadata": {},
   "outputs": [
    {
     "data": {
      "image/png": "[encoded data removed]",
      "text/plain": [
       "<Figure size 640x480 with 1 Axes>"
      ]
     },
     "metadata": {},
     "output_type": "display_data"
    }
   ],
   "source": [
    "games.groupby('platform')['jp_sales'].sum().sort_values(ascending=False).head().plot(kind='barh')\n",
    "plt.title('Самые популярные платформы в Японии')\n",
    "plt.ylabel('название платформы')\n",
    "plt.xlabel('всего продаж в регионе (в млн.)')\n",
    "plt.show()"
   ]
  },
  {
   "cell_type": "markdown",
   "metadata": {},
   "source": [
    "Отчасти самые популярные платформы среди регионов сходятся, PS3 и PS4 есть в топе всех регионов, однако имеются и отличия:\n",
    "<ul>\n",
    "<li>Самыми популярными платформами в Северной Америке являются линейки консолей от Sony и Microsoft - Xbox и PS. На 5 месте находится портативная консоль от Nintendo.</li>\n",
    "<li>Распределение в Европе напоминает Северную Америку, в топ 3 входят консоли от Sony и Microsoft, а 5 место занимает Nintendo. Однако в Европе 4 место занимает PC, то есть игры на персональных компьютерах.</li>\n",
    "<li>Топ Японии отличается от других регионов больше всех. Самыми популярными платформами здесь являются портативные консоли от Nintendo, а также PSV. При этом все 5 мест занимают консоли, которые производят японские компании: Sony и Nintendo. Только в этом регионе в топ входят сразу два вида консолей от Nintendo.</li>\n",
    "</ul>"
   ]
  },
  {
   "cell_type": "markdown",
   "metadata": {},
   "source": [
    "<h3>Самые популярные жанры в разных регионах</h3>"
   ]
  },
  {
   "cell_type": "code",
   "execution_count": 60,
   "metadata": {},
   "outputs": [
    {
     "data": {
      "image/png": "[encoded data removed]",
      "text/plain": [
       "<Figure size 640x480 with 1 Axes>"
      ]
     },
     "metadata": {},
     "output_type": "display_data"
    }
   ],
   "source": [
    "games.groupby('genre')['na_sales'].sum().sort_values(ascending=False).head().plot(kind='barh')\n",
    "plt.title('Самые популярные жанры игр в Северной Америке')\n",
    "plt.ylabel('название жанра')\n",
    "plt.xlabel('всего продаж в регионе (в млн.)')\n",
    "plt.show()"
   ]
  },
  {
   "cell_type": "code",
   "execution_count": 61,
   "metadata": {},
   "outputs": [
    {
     "data": {
      "image/png": "[encoded data removed]",
      "text/plain": [
       "<Figure size 640x480 with 1 Axes>"
      ]
     },
     "metadata": {},
     "output_type": "display_data"
    }
   ],
   "source": [
    "games.groupby('genre')['eu_sales'].sum().sort_values(ascending=False).head().plot(kind='barh')\n",
    "plt.title('Самые популярные жанры игр в Европе')\n",
    "plt.ylabel('название жанра')\n",
    "plt.xlabel('всего продаж в регионе (в млн.)')\n",
    "plt.show()"
   ]
  },
  {
   "cell_type": "code",
   "execution_count": 62,
   "metadata": {},
   "outputs": [
    {
     "data": {
      "image/png": "[encoded data removed]",
      "text/plain": [
       "<Figure size 640x480 with 1 Axes>"
      ]
     },
     "metadata": {},
     "output_type": "display_data"
    }
   ],
   "source": [
    "games.groupby('genre')['jp_sales'].sum().sort_values(ascending=False).head().plot(kind='barh')\n",
    "plt.title('Самые популярные жанры игр в Японии')\n",
    "plt.ylabel('название жанра')\n",
    "plt.xlabel('всего продаж в регионе (в млн.)')\n",
    "plt.show()"
   ]
  },
  {
   "cell_type": "markdown",
   "metadata": {},
   "source": [
    "<p>Самые популярные жанры среди регионов имеют больше сходств, чем платформы. Во всех регионах в разном порядке находятся жанры: экшен, шутер, спорт и рпг. Среди отличительного жанра: в Северной Америке и Японии - разное, в Европе - гонки.</p>\n",
    "<p>Топ Японии наибольшее различие, так как на втором месте там находится жанр рпг, при этом он почти догнал по продажам жанр экшен.</p>"
   ]
  },
  {
   "cell_type": "markdown",
   "metadata": {},
   "source": [
    "<h3>Влияние рейтинга ESRB на количество продаж в разных регионах</h3>"
   ]
  },
  {
   "cell_type": "code",
   "execution_count": 63,
   "metadata": {},
   "outputs": [
    {
     "data": {
      "image/png": "[encoded data removed]",
      "text/plain": [
       "<Figure size 640x480 with 1 Axes>"
      ]
     },
     "metadata": {},
     "output_type": "display_data"
    }
   ],
   "source": [
    "games.groupby('rating')['na_sales'].sum().sort_values(ascending=False).plot(kind='bar')\n",
    "plt.xticks(rotation=0)\n",
    "plt.title('Продажи игр в зависимости от рейтинга ESRB в Северной Америке')\n",
    "plt.xlabel('рейтинг ESRB')\n",
    "plt.ylabel('всего продаж в регионе (в млн.)')\n",
    "plt.show()"
   ]
  },
  {
   "cell_type": "code",
   "execution_count": 64,
   "metadata": {},
   "outputs": [
    {
     "data": {
      "image/png": "[encoded data removed]",
      "text/plain": [
       "<Figure size 640x480 with 1 Axes>"
      ]
     },
     "metadata": {},
     "output_type": "display_data"
    }
   ],
   "source": [
    "games.groupby('rating')['eu_sales'].sum().sort_values(ascending=False).plot(kind='bar')\n",
    "plt.xticks(rotation=0)\n",
    "plt.title('Продажи игр в зависимости от рейтинга ESRB в Европе')\n",
    "plt.xlabel('рейтинг ESRB')\n",
    "plt.ylabel('всего продаж в регионе (в млн.)')\n",
    "plt.show()"
   ]
  },
  {
   "cell_type": "code",
   "execution_count": 65,
   "metadata": {},
   "outputs": [
    {
     "data": {
      "image/png": "[encoded data removed]",
      "text/plain": [
       "<Figure size 640x480 with 1 Axes>"
      ]
     },
     "metadata": {},
     "output_type": "display_data"
    }
   ],
   "source": [
    "games.groupby('rating')['jp_sales'].sum().sort_values(ascending=False).plot(kind='bar')\n",
    "plt.xticks(rotation=0)\n",
    "plt.title('Продажи игр в зависимости от рейтинга ESRB в Японии')\n",
    "plt.xlabel('рейтинг ESRB')\n",
    "plt.ylabel('всего продаж в регионе (в млн.)')\n",
    "plt.show()"
   ]
  },
  {
   "cell_type": "markdown",
   "metadata": {},
   "source": [
    "Графики практически одинаковы, больше всего покупают игры с рейтингом M, E и T, так как пользователи этих групп наиболее многочислены. Нет оснований предполагать, что рейтинг ESRB влияет на продажи в отдельном регионе."
   ]
  },
  {
   "cell_type": "markdown",
   "metadata": {},
   "source": [
    "<h2>Проверка гипотез</h2>"
   ]
  },
  {
   "cell_type": "markdown",
   "metadata": {},
   "source": [
    "<h3>Средние пользовательские рейтинги платформ Xbox One и PC одинаковые</h3>"
   ]
  },
  {
   "cell_type": "markdown",
   "metadata": {},
   "source": [
    "Нулевая гипотеза: средние пользовательские рейтинги платформ Xbox One и PC одинаковые.<br>\n",
    "Альтернативная гипотеза: средние пользовательские рейтинги платформ Xbox One и PC разные."
   ]
  },
  {
   "cell_type": "code",
   "execution_count": 66,
   "metadata": {},
   "outputs": [
    {
     "name": "stdout",
     "output_type": "stream",
     "text": [
      "Средний пользовательский рейтинг XboxOne 6.52\n",
      "Средний пользовательский рейтинг PC 6.833442088091354\n",
      "pvalue: 0.013262619669870511\n",
      "Отвергаем нулевую гипотезу\n"
     ]
    }
   ],
   "source": [
    "print('Средний пользовательский рейтинг XboxOne', games.query('platform == \"XOne\"')['user_score'].mean())\n",
    "print('Средний пользовательский рейтинг PC', games.query('platform == \"PC\"')['user_score'].mean())\n",
    "\n",
    "user_score_xone = games.query('platform == \"XOne\" and user_score.notna()')['user_score']\n",
    "user_score_pc = games.query('platform == \"PC\" and user_score.notna()')['user_score']\n",
    "alpha = 0.05\n",
    "\n",
    "results = st.ttest_ind(user_score_xone, user_score_pc)\n",
    "\n",
    "print('pvalue:', results.pvalue)\n",
    "\n",
    "if results.pvalue < alpha:\n",
    "    print('Отвергаем нулевую гипотезу')\n",
    "else:\n",
    "    print('Не получилось отвергнуть нулевую гипотезу')"
   ]
  },
  {
   "cell_type": "markdown",
   "metadata": {},
   "source": [
    "Отвергаем нулевую гипотезу в пользу альтернативной, средние пользовательские рейтинги платформ Xbox One и PC - разные."
   ]
  },
  {
   "cell_type": "markdown",
   "metadata": {},
   "source": [
    "<h3>Средние пользовательские рейтинги жанров экшен и спорт разные</h3>"
   ]
  },
  {
   "cell_type": "markdown",
   "metadata": {},
   "source": [
    "Нулевая гипотеза: средние пользовательские рейтинги жанров экшен и спорт одинаковые.<br>\n",
    "Альтернативная гипотеза: средние пользовательские рейтинги жанров экшен и спорт разные."
   ]
  },
  {
   "cell_type": "code",
   "execution_count": 67,
   "metadata": {},
   "outputs": [
    {
     "name": "stdout",
     "output_type": "stream",
     "text": [
      "Средний пользовательский рейтинг жанра экшен 6.837540453074434\n",
      "Средний пользовательский рейтинг жанра спорт 6.099528301886793\n",
      "pvalue: 2.512541399790041e-18\n",
      "Отвергаем нулевую гипотезу\n"
     ]
    }
   ],
   "source": [
    "print('Средний пользовательский рейтинг жанра экшен', games.query('genre == \"Action\"')['user_score'].mean())\n",
    "print('Средний пользовательский рейтинг жанра спорт', games.query('genre == \"Sports\"')['user_score'].mean())\n",
    "\n",
    "user_score_action = games.query('genre == \"Action\" and user_score.notna()')['user_score']\n",
    "user_score_sports = games.query('genre == \"Sports\" and user_score.notna()')['user_score']\n",
    "\n",
    "results = st.ttest_ind(user_score_action, user_score_sports)\n",
    "\n",
    "print('pvalue:', results.pvalue)\n",
    "\n",
    "if results.pvalue < alpha:\n",
    "    print('Отвергаем нулевую гипотезу')\n",
    "else:\n",
    "    print('Не получилось отвергнуть нулевую гипотезу')"
   ]
  },
  {
   "cell_type": "markdown",
   "metadata": {},
   "source": [
    "Отвергаем нулевую гипотезу в пользу альтернативной, средние пользовательские рейтинги жанров экшен и спорт - разные."
   ]
  },
  {
   "cell_type": "markdown",
   "metadata": {},
   "source": [
    "<p>Сформулировал нулевую и альтернативные гипотезы исходя из предположения, которое нужно было проверить. Во втором случаем в качестве нулевой гипотезы поставил равенство, а не разность, так как метод проверяет именно равенство средних двух ГС.</p> \n",
    "<p>Для проверки гипотез использовал двухвыборочный t-тест для независимых выборок, так как нам нужно проверить гипотезу о равенстве средних двух независимых ГС.</p>"
   ]
  },
  {
   "cell_type": "markdown",
   "metadata": {},
   "source": [
    "<h2>Общий вывод</h2>"
   ]
  },
  {
   "cell_type": "markdown",
   "metadata": {},
   "source": [
    "Изначальные данные были обработаны для дальнейшего анализа:\n",
    "<ul>\n",
    "<li>Заполнил пропуски в столбцах с рейтингом пользователей и критиков.</li>\n",
    "<li>Перевел значения года и оценки критиков в целочисленный формат.</li>\n",
    "<li>Проверил наличие полных дубликатов.</li>\n",
    "<li>Добавил столбец с общим количеством продаж игры.</li>\n",
    "</ul>\n",
    "Затем был проведен исследовательский анализ данных, были проанализрованы:\n",
    "<ul>\n",
    "<li>Количество выпущенных игр в разные годы. Значение увеличивается примерно до 2008 года, а затем идет на спад.</li>\n",
    "<li>Популярность платформ с течением времени. В среднем платформа живет около 10 лет.</li>\n",
    "<li>Популярность плтаформ в актуальном периоде. Потенциально прибыльные платформы - PS4 и XboxOne.</li>\n",
    "<li>Распределение общего количества продаж игр в зависимости от платформы. Медиана большинства платформ находится на уровне 0.3 млн. продаж всего.</li>\n",
    "<li>Влияние оценок пользователей и критиков на общее количество продаж. Оценки критиков влияют на общее количество продаж, а оценки пользователей - нет.</li>\n",
    "<li>Общее распределение игр по жанрам. Самые популярные жанры - экшен и спорт, а самые прибыльные - шутеры и спорт.</li>\n",
    "</ul>\n",
    "Затем был проанализирован портрет пользователя каждого региона, а именно:\n",
    "<ul>\n",
    "<li>Самые популярные платформы в разных регионах.</li>\n",
    "<li>Самые популярные жанры в разных регионах.</li>\n",
    "<li>Влияние рейтинга ESRB на количество продаж в разных регионах.</li>\n",
    "</ul>\n",
    "Были проверены гипотезы и сделаны выводы:\n",
    "<ul>\n",
    "<li>Средние пользовательские рейтинги платформ Xbox One и PC - разные.</li>\n",
    "<li>Средние пользовательские рейтинги жанров экшен и спорт - разные.</li>\n",
    "</ul>"
   ]
  }
 ],
 "metadata": {
  "ExecuteTimeLog": [
   {
    "duration": 404,
    "start_time": "2024-08-13T13:01:24.689Z"
   },
   {
    "duration": 225,
    "start_time": "2024-08-13T13:01:36.855Z"
   },
   {
    "duration": 73,
    "start_time": "2024-08-13T13:04:38.300Z"
   },
   {
    "duration": 19,
    "start_time": "2024-08-13T13:04:44.107Z"
   },
   {
    "duration": 5,
    "start_time": "2024-08-13T13:07:27.340Z"
   },
   {
    "duration": 3,
    "start_time": "2024-08-13T13:08:32.223Z"
   },
   {
    "duration": 5,
    "start_time": "2024-08-13T13:08:35.740Z"
   },
   {
    "duration": 3,
    "start_time": "2024-08-13T13:08:40.850Z"
   },
   {
    "duration": 79,
    "start_time": "2024-08-13T13:10:24.142Z"
   },
   {
    "duration": 7,
    "start_time": "2024-08-13T13:12:30.594Z"
   },
   {
    "duration": 7,
    "start_time": "2024-08-13T13:13:19.737Z"
   },
   {
    "duration": 7,
    "start_time": "2024-08-13T13:13:44.071Z"
   },
   {
    "duration": 22,
    "start_time": "2024-08-13T13:13:53.188Z"
   },
   {
    "duration": 17,
    "start_time": "2024-08-13T13:14:36.264Z"
   },
   {
    "duration": 11,
    "start_time": "2024-08-13T13:15:28.285Z"
   },
   {
    "duration": 48,
    "start_time": "2024-08-13T13:18:43.572Z"
   },
   {
    "duration": 3,
    "start_time": "2024-08-13T13:19:04.789Z"
   },
   {
    "duration": 66,
    "start_time": "2024-08-13T13:19:04.794Z"
   },
   {
    "duration": 15,
    "start_time": "2024-08-13T13:19:04.862Z"
   },
   {
    "duration": 11,
    "start_time": "2024-08-13T13:19:04.879Z"
   },
   {
    "duration": 91,
    "start_time": "2024-08-13T13:19:09.616Z"
   },
   {
    "duration": 2,
    "start_time": "2024-08-13T13:21:22.795Z"
   },
   {
    "duration": 88,
    "start_time": "2024-08-13T13:21:22.799Z"
   },
   {
    "duration": 18,
    "start_time": "2024-08-13T13:21:22.890Z"
   },
   {
    "duration": 4,
    "start_time": "2024-08-13T13:21:27.107Z"
   },
   {
    "duration": 55,
    "start_time": "2024-08-13T13:21:28.418Z"
   },
   {
    "duration": 413,
    "start_time": "2024-08-13T13:21:51.064Z"
   },
   {
    "duration": 77,
    "start_time": "2024-08-13T13:21:51.479Z"
   },
   {
    "duration": 13,
    "start_time": "2024-08-13T13:21:51.558Z"
   },
   {
    "duration": 4,
    "start_time": "2024-08-13T13:21:56.686Z"
   },
   {
    "duration": 52,
    "start_time": "2024-08-13T13:21:57.570Z"
   },
   {
    "duration": 6,
    "start_time": "2024-08-13T13:22:01.340Z"
   },
   {
    "duration": 7,
    "start_time": "2024-08-13T13:22:26.055Z"
   },
   {
    "duration": 51,
    "start_time": "2024-08-13T13:22:33.116Z"
   },
   {
    "duration": 56,
    "start_time": "2024-08-13T13:23:07.658Z"
   },
   {
    "duration": 6,
    "start_time": "2024-08-13T13:23:23.948Z"
   },
   {
    "duration": 6,
    "start_time": "2024-08-13T13:25:06.784Z"
   },
   {
    "duration": 9,
    "start_time": "2024-08-13T13:25:43.620Z"
   },
   {
    "duration": 8,
    "start_time": "2024-08-13T13:26:18.604Z"
   },
   {
    "duration": 6,
    "start_time": "2024-08-13T13:26:29.328Z"
   },
   {
    "duration": 8,
    "start_time": "2024-08-13T13:27:03.400Z"
   },
   {
    "duration": 67,
    "start_time": "2024-08-13T13:27:20.902Z"
   },
   {
    "duration": 11,
    "start_time": "2024-08-13T13:27:45.203Z"
   },
   {
    "duration": 44,
    "start_time": "2024-08-13T13:28:18.950Z"
   },
   {
    "duration": 21,
    "start_time": "2024-08-13T13:28:28.839Z"
   },
   {
    "duration": 2,
    "start_time": "2024-08-13T13:30:15.904Z"
   },
   {
    "duration": 69,
    "start_time": "2024-08-13T13:30:15.908Z"
   },
   {
    "duration": 23,
    "start_time": "2024-08-13T13:30:15.979Z"
   },
   {
    "duration": 3,
    "start_time": "2024-08-13T13:30:16.004Z"
   },
   {
    "duration": 16,
    "start_time": "2024-08-13T13:30:31.810Z"
   },
   {
    "duration": 3,
    "start_time": "2024-08-13T13:30:39.872Z"
   },
   {
    "duration": 80,
    "start_time": "2024-08-13T13:30:39.877Z"
   },
   {
    "duration": 13,
    "start_time": "2024-08-13T13:30:39.959Z"
   },
   {
    "duration": 2,
    "start_time": "2024-08-13T13:30:39.974Z"
   },
   {
    "duration": 21,
    "start_time": "2024-08-13T13:30:41.951Z"
   },
   {
    "duration": 17,
    "start_time": "2024-08-13T13:31:26.695Z"
   },
   {
    "duration": 17,
    "start_time": "2024-08-13T13:33:26.802Z"
   },
   {
    "duration": 16,
    "start_time": "2024-08-13T13:33:35.239Z"
   },
   {
    "duration": 12,
    "start_time": "2024-08-13T13:33:45.124Z"
   },
   {
    "duration": 2,
    "start_time": "2024-08-13T13:33:52.454Z"
   },
   {
    "duration": 72,
    "start_time": "2024-08-13T13:33:52.458Z"
   },
   {
    "duration": 18,
    "start_time": "2024-08-13T13:33:52.532Z"
   },
   {
    "duration": 16,
    "start_time": "2024-08-13T13:33:52.552Z"
   },
   {
    "duration": 30,
    "start_time": "2024-08-13T13:33:52.570Z"
   },
   {
    "duration": 18,
    "start_time": "2024-08-13T13:34:33.221Z"
   },
   {
    "duration": 28,
    "start_time": "2024-08-13T13:35:13.077Z"
   },
   {
    "duration": 19,
    "start_time": "2024-08-13T13:35:22.683Z"
   },
   {
    "duration": 48,
    "start_time": "2024-08-13T13:39:56.699Z"
   },
   {
    "duration": 124,
    "start_time": "2024-08-13T13:40:58.329Z"
   },
   {
    "duration": 162,
    "start_time": "2024-08-13T13:41:20.152Z"
   },
   {
    "duration": 153,
    "start_time": "2024-08-13T13:44:45.394Z"
   },
   {
    "duration": 38,
    "start_time": "2024-08-13T13:45:40.894Z"
   },
   {
    "duration": 38,
    "start_time": "2024-08-13T13:49:25.869Z"
   },
   {
    "duration": 2,
    "start_time": "2024-08-13T13:49:53.021Z"
   },
   {
    "duration": 109,
    "start_time": "2024-08-13T13:49:53.025Z"
   },
   {
    "duration": 14,
    "start_time": "2024-08-13T13:49:53.135Z"
   },
   {
    "duration": 3,
    "start_time": "2024-08-13T13:49:53.151Z"
   },
   {
    "duration": 56,
    "start_time": "2024-08-13T13:49:53.155Z"
   },
   {
    "duration": 41,
    "start_time": "2024-08-13T13:49:56.204Z"
   },
   {
    "duration": 10,
    "start_time": "2024-08-13T13:50:50.600Z"
   },
   {
    "duration": 49,
    "start_time": "2024-08-13T13:51:03.204Z"
   },
   {
    "duration": 58,
    "start_time": "2024-08-13T13:57:37.010Z"
   },
   {
    "duration": 47,
    "start_time": "2024-08-13T13:57:46.708Z"
   },
   {
    "duration": 60,
    "start_time": "2024-08-13T13:57:53.743Z"
   },
   {
    "duration": 26,
    "start_time": "2024-08-13T13:59:06.455Z"
   },
   {
    "duration": 67,
    "start_time": "2024-08-13T14:29:27.670Z"
   },
   {
    "duration": 55,
    "start_time": "2024-08-13T14:29:33.159Z"
   },
   {
    "duration": 85,
    "start_time": "2024-08-13T14:29:57.555Z"
   },
   {
    "duration": 90,
    "start_time": "2024-08-13T14:30:05.796Z"
   },
   {
    "duration": 3,
    "start_time": "2024-08-13T14:30:28.464Z"
   },
   {
    "duration": 67,
    "start_time": "2024-08-13T14:30:28.468Z"
   },
   {
    "duration": 12,
    "start_time": "2024-08-13T14:30:28.536Z"
   },
   {
    "duration": 2,
    "start_time": "2024-08-13T14:30:28.550Z"
   },
   {
    "duration": 14,
    "start_time": "2024-08-13T14:30:28.554Z"
   },
   {
    "duration": 24,
    "start_time": "2024-08-13T14:30:32.431Z"
   },
   {
    "duration": 26,
    "start_time": "2024-08-13T14:30:40.945Z"
   },
   {
    "duration": 57,
    "start_time": "2024-08-13T14:30:47.302Z"
   },
   {
    "duration": 58,
    "start_time": "2024-08-13T14:30:50.883Z"
   },
   {
    "duration": 2,
    "start_time": "2024-08-13T14:31:11.668Z"
   },
   {
    "duration": 70,
    "start_time": "2024-08-13T14:31:11.672Z"
   },
   {
    "duration": 12,
    "start_time": "2024-08-13T14:31:11.744Z"
   },
   {
    "duration": 2,
    "start_time": "2024-08-13T14:31:11.758Z"
   },
   {
    "duration": 16,
    "start_time": "2024-08-13T14:31:11.762Z"
   },
   {
    "duration": 112,
    "start_time": "2024-08-13T14:31:11.779Z"
   },
   {
    "duration": 2,
    "start_time": "2024-08-13T14:31:35.680Z"
   },
   {
    "duration": 82,
    "start_time": "2024-08-13T14:31:35.686Z"
   },
   {
    "duration": 13,
    "start_time": "2024-08-13T14:31:35.770Z"
   },
   {
    "duration": 11,
    "start_time": "2024-08-13T14:31:35.785Z"
   },
   {
    "duration": 90,
    "start_time": "2024-08-13T14:31:35.797Z"
   },
   {
    "duration": 105,
    "start_time": "2024-08-13T14:31:35.888Z"
   },
   {
    "duration": 104,
    "start_time": "2024-08-13T14:32:05.871Z"
   },
   {
    "duration": 110,
    "start_time": "2024-08-13T14:32:40.952Z"
   },
   {
    "duration": 11,
    "start_time": "2024-08-13T14:33:54.425Z"
   },
   {
    "duration": 501,
    "start_time": "2024-08-13T14:34:05.824Z"
   },
   {
    "duration": 13,
    "start_time": "2024-08-13T14:34:17.197Z"
   },
   {
    "duration": 11,
    "start_time": "2024-08-13T14:36:59.482Z"
   },
   {
    "duration": 10,
    "start_time": "2024-08-13T14:37:14.170Z"
   },
   {
    "duration": 103,
    "start_time": "2024-08-13T14:40:06.973Z"
   },
   {
    "duration": 16,
    "start_time": "2024-08-13T14:40:35.931Z"
   },
   {
    "duration": 21,
    "start_time": "2024-08-13T14:53:57.487Z"
   },
   {
    "duration": 17,
    "start_time": "2024-08-13T14:54:26.895Z"
   },
   {
    "duration": 5,
    "start_time": "2024-08-13T15:01:38.788Z"
   },
   {
    "duration": 3,
    "start_time": "2024-08-13T15:02:31.294Z"
   },
   {
    "duration": 310,
    "start_time": "2024-08-13T15:02:31.298Z"
   },
   {
    "duration": 13,
    "start_time": "2024-08-13T15:02:31.610Z"
   },
   {
    "duration": 47,
    "start_time": "2024-08-13T15:02:31.625Z"
   },
   {
    "duration": 61,
    "start_time": "2024-08-13T15:02:31.674Z"
   },
   {
    "duration": 123,
    "start_time": "2024-08-13T15:02:31.737Z"
   },
   {
    "duration": 9,
    "start_time": "2024-08-13T15:03:07.637Z"
   },
   {
    "duration": 8,
    "start_time": "2024-08-13T15:10:52.382Z"
   },
   {
    "duration": 2,
    "start_time": "2024-08-13T15:11:13.550Z"
   },
   {
    "duration": 73,
    "start_time": "2024-08-13T15:11:13.554Z"
   },
   {
    "duration": 12,
    "start_time": "2024-08-13T15:11:13.628Z"
   },
   {
    "duration": 8,
    "start_time": "2024-08-13T15:11:13.641Z"
   },
   {
    "duration": 68,
    "start_time": "2024-08-13T15:11:13.650Z"
   },
   {
    "duration": 95,
    "start_time": "2024-08-13T15:11:13.720Z"
   },
   {
    "duration": 7,
    "start_time": "2024-08-13T15:11:37.643Z"
   },
   {
    "duration": 7,
    "start_time": "2024-08-13T15:11:45.411Z"
   },
   {
    "duration": 9,
    "start_time": "2024-08-13T15:12:15.641Z"
   },
   {
    "duration": 5,
    "start_time": "2024-08-13T15:15:12.206Z"
   },
   {
    "duration": 17,
    "start_time": "2024-08-13T15:16:08.255Z"
   },
   {
    "duration": 17,
    "start_time": "2024-08-13T15:16:11.889Z"
   },
   {
    "duration": 124,
    "start_time": "2024-08-13T15:23:44.046Z"
   },
   {
    "duration": 273,
    "start_time": "2024-08-13T15:23:55.615Z"
   },
   {
    "duration": 6,
    "start_time": "2024-08-13T15:24:04.674Z"
   },
   {
    "duration": 8,
    "start_time": "2024-08-13T15:24:28.932Z"
   },
   {
    "duration": 18,
    "start_time": "2024-08-13T15:24:52.771Z"
   },
   {
    "duration": 7,
    "start_time": "2024-08-13T15:24:59.272Z"
   },
   {
    "duration": 11,
    "start_time": "2024-08-13T15:25:20.436Z"
   },
   {
    "duration": 7,
    "start_time": "2024-08-13T15:25:24.193Z"
   },
   {
    "duration": 56,
    "start_time": "2024-08-13T15:27:50.988Z"
   },
   {
    "duration": 17,
    "start_time": "2024-08-13T15:27:58.092Z"
   },
   {
    "duration": 13,
    "start_time": "2024-08-13T15:28:28.075Z"
   },
   {
    "duration": 27,
    "start_time": "2024-08-13T15:28:52.404Z"
   },
   {
    "duration": 51,
    "start_time": "2024-08-15T14:37:41.222Z"
   },
   {
    "duration": 405,
    "start_time": "2024-08-15T14:37:45.073Z"
   },
   {
    "duration": 192,
    "start_time": "2024-08-15T14:37:45.480Z"
   },
   {
    "duration": 13,
    "start_time": "2024-08-15T14:37:45.674Z"
   },
   {
    "duration": 7,
    "start_time": "2024-08-15T14:37:45.689Z"
   },
   {
    "duration": 23,
    "start_time": "2024-08-15T14:37:45.698Z"
   },
   {
    "duration": 111,
    "start_time": "2024-08-15T14:37:45.723Z"
   },
   {
    "duration": 50,
    "start_time": "2024-08-15T14:37:45.836Z"
   },
   {
    "duration": 0,
    "start_time": "2024-08-15T14:37:45.887Z"
   },
   {
    "duration": 0,
    "start_time": "2024-08-15T14:37:45.888Z"
   },
   {
    "duration": 0,
    "start_time": "2024-08-15T14:37:45.890Z"
   },
   {
    "duration": 27,
    "start_time": "2024-08-15T14:38:19.992Z"
   },
   {
    "duration": 6,
    "start_time": "2024-08-15T14:39:30.228Z"
   },
   {
    "duration": 5,
    "start_time": "2024-08-15T14:40:11.916Z"
   },
   {
    "duration": 17,
    "start_time": "2024-08-15T14:40:12.379Z"
   },
   {
    "duration": 6,
    "start_time": "2024-08-15T14:40:16.364Z"
   },
   {
    "duration": 402,
    "start_time": "2024-08-15T14:40:51.157Z"
   },
   {
    "duration": 134,
    "start_time": "2024-08-15T14:41:10.077Z"
   },
   {
    "duration": 147,
    "start_time": "2024-08-15T14:41:47.616Z"
   },
   {
    "duration": 7,
    "start_time": "2024-08-15T14:43:22.793Z"
   },
   {
    "duration": 148,
    "start_time": "2024-08-15T14:43:26.819Z"
   },
   {
    "duration": 7,
    "start_time": "2024-08-15T14:43:59.098Z"
   },
   {
    "duration": 149,
    "start_time": "2024-08-15T14:45:28.015Z"
   },
   {
    "duration": 194,
    "start_time": "2024-08-15T14:45:40.265Z"
   },
   {
    "duration": 3,
    "start_time": "2024-08-15T14:46:18.784Z"
   },
   {
    "duration": 115,
    "start_time": "2024-08-15T14:47:32.066Z"
   },
   {
    "duration": 118,
    "start_time": "2024-08-15T14:47:42.009Z"
   },
   {
    "duration": 109,
    "start_time": "2024-08-15T14:47:47.784Z"
   },
   {
    "duration": 152,
    "start_time": "2024-08-15T14:47:57.196Z"
   },
   {
    "duration": 155,
    "start_time": "2024-08-15T14:48:22.728Z"
   },
   {
    "duration": 158,
    "start_time": "2024-08-15T14:48:31.401Z"
   },
   {
    "duration": 11,
    "start_time": "2024-08-15T14:48:53.313Z"
   },
   {
    "duration": 149,
    "start_time": "2024-08-15T14:49:09.099Z"
   },
   {
    "duration": 136,
    "start_time": "2024-08-15T14:49:35.327Z"
   },
   {
    "duration": 203,
    "start_time": "2024-08-15T14:50:18.667Z"
   },
   {
    "duration": 35,
    "start_time": "2024-08-15T14:50:58.954Z"
   },
   {
    "duration": 136,
    "start_time": "2024-08-15T14:51:27.828Z"
   },
   {
    "duration": 235,
    "start_time": "2024-08-15T14:52:27.679Z"
   },
   {
    "duration": 9,
    "start_time": "2024-08-15T14:59:47.501Z"
   },
   {
    "duration": 12,
    "start_time": "2024-08-15T15:00:30.401Z"
   },
   {
    "duration": 8,
    "start_time": "2024-08-15T15:00:36.316Z"
   },
   {
    "duration": 8,
    "start_time": "2024-08-15T15:01:02.807Z"
   },
   {
    "duration": 11,
    "start_time": "2024-08-15T15:01:08.185Z"
   },
   {
    "duration": 225,
    "start_time": "2024-08-15T15:03:09.460Z"
   },
   {
    "duration": 162,
    "start_time": "2024-08-15T15:03:43.082Z"
   },
   {
    "duration": 127,
    "start_time": "2024-08-15T15:03:59.285Z"
   },
   {
    "duration": 127,
    "start_time": "2024-08-15T15:04:11.144Z"
   },
   {
    "duration": 162,
    "start_time": "2024-08-15T15:04:15.974Z"
   },
   {
    "duration": 2290,
    "start_time": "2024-08-15T15:06:14.776Z"
   },
   {
    "duration": 2356,
    "start_time": "2024-08-15T15:06:40.939Z"
   },
   {
    "duration": 5,
    "start_time": "2024-08-15T15:07:02.769Z"
   },
   {
    "duration": 19,
    "start_time": "2024-08-15T15:07:11.577Z"
   },
   {
    "duration": 169,
    "start_time": "2024-08-15T15:07:25.111Z"
   },
   {
    "duration": 158,
    "start_time": "2024-08-15T15:07:35.594Z"
   },
   {
    "duration": 173,
    "start_time": "2024-08-15T15:07:56.307Z"
   },
   {
    "duration": 171,
    "start_time": "2024-08-15T15:08:15.879Z"
   },
   {
    "duration": 177,
    "start_time": "2024-08-15T15:08:32.184Z"
   },
   {
    "duration": 237,
    "start_time": "2024-08-15T15:08:37.764Z"
   },
   {
    "duration": 981,
    "start_time": "2024-08-15T15:11:42.862Z"
   },
   {
    "duration": 11,
    "start_time": "2024-08-15T15:11:55.174Z"
   },
   {
    "duration": 11,
    "start_time": "2024-08-15T15:11:59.437Z"
   },
   {
    "duration": 11,
    "start_time": "2024-08-15T15:12:03.963Z"
   },
   {
    "duration": 8,
    "start_time": "2024-08-15T15:12:09.700Z"
   },
   {
    "duration": 30,
    "start_time": "2024-08-15T15:15:32.024Z"
   },
   {
    "duration": 31,
    "start_time": "2024-08-15T15:15:56.888Z"
   },
   {
    "duration": 9,
    "start_time": "2024-08-15T15:16:11.118Z"
   },
   {
    "duration": 15,
    "start_time": "2024-08-15T15:16:31.988Z"
   },
   {
    "duration": 14,
    "start_time": "2024-08-15T15:16:53.815Z"
   },
   {
    "duration": 8,
    "start_time": "2024-08-15T15:17:05.853Z"
   },
   {
    "duration": 12,
    "start_time": "2024-08-15T15:17:57.503Z"
   },
   {
    "duration": 11,
    "start_time": "2024-08-15T15:18:09.742Z"
   },
   {
    "duration": 444,
    "start_time": "2024-08-15T15:19:41.510Z"
   },
   {
    "duration": 435,
    "start_time": "2024-08-15T15:20:08.088Z"
   },
   {
    "duration": 429,
    "start_time": "2024-08-15T15:20:15.236Z"
   },
   {
    "duration": 489,
    "start_time": "2024-08-15T15:20:21.291Z"
   },
   {
    "duration": 506,
    "start_time": "2024-08-15T15:20:42.439Z"
   },
   {
    "duration": 567,
    "start_time": "2024-08-15T15:20:49.823Z"
   },
   {
    "duration": 506,
    "start_time": "2024-08-15T15:20:56.055Z"
   },
   {
    "duration": 865,
    "start_time": "2024-08-15T15:21:16.188Z"
   },
   {
    "duration": 17,
    "start_time": "2024-08-15T15:22:49.043Z"
   },
   {
    "duration": 331,
    "start_time": "2024-08-15T15:23:06.835Z"
   },
   {
    "duration": 364,
    "start_time": "2024-08-15T15:24:30.776Z"
   },
   {
    "duration": 1557,
    "start_time": "2024-08-15T15:25:36.191Z"
   },
   {
    "duration": 62,
    "start_time": "2024-08-15T15:26:01.435Z"
   },
   {
    "duration": 1412,
    "start_time": "2024-08-15T15:26:08.730Z"
   },
   {
    "duration": 1500,
    "start_time": "2024-08-15T15:26:14.299Z"
   },
   {
    "duration": 1439,
    "start_time": "2024-08-15T15:26:17.082Z"
   },
   {
    "duration": 1585,
    "start_time": "2024-08-15T15:26:32.881Z"
   },
   {
    "duration": 1603,
    "start_time": "2024-08-15T15:27:05.184Z"
   },
   {
    "duration": 1675,
    "start_time": "2024-08-15T15:27:41.378Z"
   },
   {
    "duration": 286,
    "start_time": "2024-08-15T15:29:06.505Z"
   },
   {
    "duration": 363,
    "start_time": "2024-08-15T15:31:53.246Z"
   },
   {
    "duration": 261,
    "start_time": "2024-08-15T15:32:04.185Z"
   },
   {
    "duration": 306,
    "start_time": "2024-08-15T15:37:17.233Z"
   },
   {
    "duration": 298,
    "start_time": "2024-08-15T15:37:27.001Z"
   },
   {
    "duration": 10,
    "start_time": "2024-08-15T15:41:10.328Z"
   },
   {
    "duration": 8,
    "start_time": "2024-08-15T15:41:22.859Z"
   },
   {
    "duration": 3,
    "start_time": "2024-08-15T15:41:33.520Z"
   },
   {
    "duration": 107,
    "start_time": "2024-08-15T15:41:33.524Z"
   },
   {
    "duration": 15,
    "start_time": "2024-08-15T15:41:33.633Z"
   },
   {
    "duration": 25,
    "start_time": "2024-08-15T15:41:33.651Z"
   },
   {
    "duration": 31,
    "start_time": "2024-08-15T15:41:33.677Z"
   },
   {
    "duration": 102,
    "start_time": "2024-08-15T15:41:33.710Z"
   },
   {
    "duration": 9,
    "start_time": "2024-08-15T15:41:33.813Z"
   },
   {
    "duration": 24,
    "start_time": "2024-08-15T15:41:33.823Z"
   },
   {
    "duration": 46,
    "start_time": "2024-08-15T15:41:33.850Z"
   },
   {
    "duration": 198,
    "start_time": "2024-08-15T15:41:33.898Z"
   },
   {
    "duration": 10,
    "start_time": "2024-08-15T15:41:34.099Z"
   },
   {
    "duration": 303,
    "start_time": "2024-08-15T15:41:34.111Z"
   },
   {
    "duration": 9,
    "start_time": "2024-08-15T15:41:39.278Z"
   },
   {
    "duration": 13,
    "start_time": "2024-08-15T15:42:12.617Z"
   },
   {
    "duration": 15,
    "start_time": "2024-08-15T15:42:24.730Z"
   },
   {
    "duration": 16,
    "start_time": "2024-08-15T15:42:36.283Z"
   },
   {
    "duration": 265,
    "start_time": "2024-08-15T15:43:31.921Z"
   },
   {
    "duration": 509,
    "start_time": "2024-08-15T15:43:50.043Z"
   },
   {
    "duration": 30,
    "start_time": "2024-08-15T15:45:38.211Z"
   },
   {
    "duration": 18,
    "start_time": "2024-08-15T15:45:48.302Z"
   },
   {
    "duration": 12,
    "start_time": "2024-08-15T15:45:59.976Z"
   },
   {
    "duration": 13,
    "start_time": "2024-08-15T15:46:06.487Z"
   },
   {
    "duration": 160,
    "start_time": "2024-08-15T15:46:11.001Z"
   },
   {
    "duration": 213,
    "start_time": "2024-08-15T15:46:30.018Z"
   },
   {
    "duration": 128,
    "start_time": "2024-08-15T15:46:38.837Z"
   },
   {
    "duration": 407,
    "start_time": "2024-08-15T15:47:31.672Z"
   },
   {
    "duration": 19,
    "start_time": "2024-08-15T15:50:52.844Z"
   },
   {
    "duration": 8,
    "start_time": "2024-08-15T15:51:10.824Z"
   },
   {
    "duration": 12,
    "start_time": "2024-08-15T15:51:13.343Z"
   },
   {
    "duration": 18,
    "start_time": "2024-08-15T15:52:53.744Z"
   },
   {
    "duration": 16,
    "start_time": "2024-08-15T15:53:02.901Z"
   },
   {
    "duration": 25,
    "start_time": "2024-08-15T15:53:15.525Z"
   },
   {
    "duration": 891,
    "start_time": "2024-08-15T15:54:31.554Z"
   },
   {
    "duration": 13,
    "start_time": "2024-08-15T15:54:37.390Z"
   },
   {
    "duration": 18,
    "start_time": "2024-08-15T15:54:56.622Z"
   },
   {
    "duration": 9,
    "start_time": "2024-08-15T15:55:00.823Z"
   },
   {
    "duration": 7,
    "start_time": "2024-08-15T15:55:04.321Z"
   },
   {
    "duration": 428,
    "start_time": "2024-08-15T15:55:06.411Z"
   },
   {
    "duration": 15,
    "start_time": "2024-08-15T15:56:10.407Z"
   },
   {
    "duration": 8,
    "start_time": "2024-08-15T15:56:12.617Z"
   },
   {
    "duration": 343,
    "start_time": "2024-08-15T15:56:28.271Z"
   },
   {
    "duration": 3,
    "start_time": "2024-08-15T15:57:42.264Z"
   },
   {
    "duration": 69,
    "start_time": "2024-08-15T15:57:42.268Z"
   },
   {
    "duration": 17,
    "start_time": "2024-08-15T15:57:42.340Z"
   },
   {
    "duration": 4,
    "start_time": "2024-08-15T15:57:42.360Z"
   },
   {
    "duration": 23,
    "start_time": "2024-08-15T15:57:42.366Z"
   },
   {
    "duration": 130,
    "start_time": "2024-08-15T15:57:42.391Z"
   },
   {
    "duration": 8,
    "start_time": "2024-08-15T15:57:42.523Z"
   },
   {
    "duration": 15,
    "start_time": "2024-08-15T15:57:42.533Z"
   },
   {
    "duration": 28,
    "start_time": "2024-08-15T15:57:42.550Z"
   },
   {
    "duration": 179,
    "start_time": "2024-08-15T15:57:42.582Z"
   },
   {
    "duration": 9,
    "start_time": "2024-08-15T15:57:42.763Z"
   },
   {
    "duration": 314,
    "start_time": "2024-08-15T15:57:42.774Z"
   },
   {
    "duration": 17,
    "start_time": "2024-08-15T15:57:43.089Z"
   },
   {
    "duration": 396,
    "start_time": "2024-08-15T15:57:43.108Z"
   },
   {
    "duration": 3,
    "start_time": "2024-08-15T16:02:16.327Z"
   },
   {
    "duration": 70,
    "start_time": "2024-08-15T16:02:16.332Z"
   },
   {
    "duration": 14,
    "start_time": "2024-08-15T16:02:16.404Z"
   },
   {
    "duration": 3,
    "start_time": "2024-08-15T16:02:16.420Z"
   },
   {
    "duration": 32,
    "start_time": "2024-08-15T16:02:16.424Z"
   },
   {
    "duration": 116,
    "start_time": "2024-08-15T16:02:16.458Z"
   },
   {
    "duration": 8,
    "start_time": "2024-08-15T16:02:16.576Z"
   },
   {
    "duration": 5,
    "start_time": "2024-08-15T16:02:16.586Z"
   },
   {
    "duration": 33,
    "start_time": "2024-08-15T16:02:16.593Z"
   },
   {
    "duration": 180,
    "start_time": "2024-08-15T16:02:16.628Z"
   },
   {
    "duration": 8,
    "start_time": "2024-08-15T16:02:16.810Z"
   },
   {
    "duration": 301,
    "start_time": "2024-08-15T16:02:16.819Z"
   },
   {
    "duration": 28,
    "start_time": "2024-08-15T16:02:17.122Z"
   },
   {
    "duration": 509,
    "start_time": "2024-08-15T16:02:17.152Z"
   },
   {
    "duration": 3,
    "start_time": "2024-08-15T16:02:38.572Z"
   },
   {
    "duration": 115,
    "start_time": "2024-08-15T16:02:38.578Z"
   },
   {
    "duration": 14,
    "start_time": "2024-08-15T16:02:38.695Z"
   },
   {
    "duration": 4,
    "start_time": "2024-08-15T16:02:38.711Z"
   },
   {
    "duration": 52,
    "start_time": "2024-08-15T16:02:38.717Z"
   },
   {
    "duration": 116,
    "start_time": "2024-08-15T16:02:38.771Z"
   },
   {
    "duration": 8,
    "start_time": "2024-08-15T16:02:38.889Z"
   },
   {
    "duration": 12,
    "start_time": "2024-08-15T16:02:38.899Z"
   },
   {
    "duration": 51,
    "start_time": "2024-08-15T16:02:38.913Z"
   },
   {
    "duration": 198,
    "start_time": "2024-08-15T16:02:38.966Z"
   },
   {
    "duration": 8,
    "start_time": "2024-08-15T16:02:39.166Z"
   },
   {
    "duration": 318,
    "start_time": "2024-08-15T16:02:39.176Z"
   },
   {
    "duration": 16,
    "start_time": "2024-08-15T16:02:39.496Z"
   },
   {
    "duration": 379,
    "start_time": "2024-08-15T16:02:39.514Z"
   },
   {
    "duration": 363,
    "start_time": "2024-08-15T16:03:41.627Z"
   },
   {
    "duration": 22,
    "start_time": "2024-08-15T16:11:09.867Z"
   },
   {
    "duration": 20,
    "start_time": "2024-08-15T16:11:26.521Z"
   },
   {
    "duration": 225,
    "start_time": "2024-08-15T16:11:55.239Z"
   },
   {
    "duration": 818,
    "start_time": "2024-08-15T16:12:32.211Z"
   },
   {
    "duration": 989,
    "start_time": "2024-08-15T16:13:01.076Z"
   },
   {
    "duration": 505,
    "start_time": "2024-08-15T16:13:11.310Z"
   },
   {
    "duration": 632,
    "start_time": "2024-08-15T16:13:20.799Z"
   },
   {
    "duration": 561,
    "start_time": "2024-08-15T16:14:52.149Z"
   },
   {
    "duration": 691,
    "start_time": "2024-08-15T16:15:24.955Z"
   },
   {
    "duration": 491,
    "start_time": "2024-08-15T16:19:08.505Z"
   },
   {
    "duration": 1703,
    "start_time": "2024-08-15T16:23:03.344Z"
   },
   {
    "duration": 273,
    "start_time": "2024-08-15T16:26:02.856Z"
   },
   {
    "duration": 193,
    "start_time": "2024-08-15T16:27:32.689Z"
   },
   {
    "duration": 211,
    "start_time": "2024-08-15T16:27:45.140Z"
   },
   {
    "duration": 199,
    "start_time": "2024-08-15T16:27:50.270Z"
   },
   {
    "duration": 144,
    "start_time": "2024-08-15T16:27:59.328Z"
   },
   {
    "duration": 187,
    "start_time": "2024-08-15T16:28:03.219Z"
   },
   {
    "duration": 354,
    "start_time": "2024-08-15T16:30:40.355Z"
   },
   {
    "duration": 198,
    "start_time": "2024-08-15T16:31:16.870Z"
   },
   {
    "duration": 197,
    "start_time": "2024-08-15T16:31:37.758Z"
   },
   {
    "duration": 239,
    "start_time": "2024-08-15T16:31:50.943Z"
   },
   {
    "duration": 412,
    "start_time": "2024-08-15T16:32:23.821Z"
   },
   {
    "duration": 223,
    "start_time": "2024-08-15T16:32:31.815Z"
   },
   {
    "duration": 252,
    "start_time": "2024-08-15T16:33:16.463Z"
   },
   {
    "duration": 129,
    "start_time": "2024-08-15T16:34:10.654Z"
   },
   {
    "duration": 226,
    "start_time": "2024-08-15T16:34:18.309Z"
   },
   {
    "duration": 212,
    "start_time": "2024-08-15T16:34:45.658Z"
   },
   {
    "duration": 225,
    "start_time": "2024-08-15T16:34:54.880Z"
   },
   {
    "duration": 226,
    "start_time": "2024-08-15T16:35:06.516Z"
   },
   {
    "duration": 239,
    "start_time": "2024-08-15T16:35:17.289Z"
   },
   {
    "duration": 326,
    "start_time": "2024-08-15T16:37:19.907Z"
   },
   {
    "duration": 330,
    "start_time": "2024-08-15T16:37:25.098Z"
   },
   {
    "duration": 304,
    "start_time": "2024-08-15T16:37:32.435Z"
   },
   {
    "duration": 10,
    "start_time": "2024-08-15T16:45:14.618Z"
   },
   {
    "duration": 165,
    "start_time": "2024-08-15T16:46:10.489Z"
   },
   {
    "duration": 157,
    "start_time": "2024-08-15T16:47:31.001Z"
   },
   {
    "duration": 15,
    "start_time": "2024-08-15T16:51:17.017Z"
   },
   {
    "duration": 9,
    "start_time": "2024-08-15T16:54:24.312Z"
   },
   {
    "duration": 14,
    "start_time": "2024-08-15T16:54:28.439Z"
   },
   {
    "duration": 14,
    "start_time": "2024-08-15T16:54:43.912Z"
   },
   {
    "duration": 16,
    "start_time": "2024-08-15T16:54:59.178Z"
   },
   {
    "duration": 21,
    "start_time": "2024-08-15T16:55:12.440Z"
   },
   {
    "duration": 20,
    "start_time": "2024-08-15T16:55:42.189Z"
   },
   {
    "duration": 21,
    "start_time": "2024-08-15T16:58:00.584Z"
   },
   {
    "duration": 13,
    "start_time": "2024-08-15T16:58:34.319Z"
   },
   {
    "duration": 17,
    "start_time": "2024-08-15T16:58:42.838Z"
   },
   {
    "duration": 1072,
    "start_time": "2024-08-15T16:58:57.075Z"
   },
   {
    "duration": 1045,
    "start_time": "2024-08-15T16:59:17.322Z"
   },
   {
    "duration": 23,
    "start_time": "2024-08-15T16:59:25.020Z"
   },
   {
    "duration": 167,
    "start_time": "2024-08-15T16:59:47.158Z"
   },
   {
    "duration": 384,
    "start_time": "2024-08-15T17:00:03.908Z"
   },
   {
    "duration": 166,
    "start_time": "2024-08-15T17:02:42.367Z"
   },
   {
    "duration": 173,
    "start_time": "2024-08-15T17:04:07.525Z"
   },
   {
    "duration": 139,
    "start_time": "2024-08-15T17:04:15.341Z"
   },
   {
    "duration": 153,
    "start_time": "2024-08-15T17:04:19.853Z"
   },
   {
    "duration": 148,
    "start_time": "2024-08-15T17:04:22.853Z"
   },
   {
    "duration": 27,
    "start_time": "2024-08-15T17:08:29.174Z"
   },
   {
    "duration": 20,
    "start_time": "2024-08-15T17:21:01.206Z"
   },
   {
    "duration": 13,
    "start_time": "2024-08-15T17:21:22.700Z"
   },
   {
    "duration": 18,
    "start_time": "2024-08-15T17:21:54.295Z"
   },
   {
    "duration": 17,
    "start_time": "2024-08-15T17:21:59.639Z"
   },
   {
    "duration": 18,
    "start_time": "2024-08-15T17:22:06.219Z"
   },
   {
    "duration": 12,
    "start_time": "2024-08-15T17:22:55.512Z"
   },
   {
    "duration": 1052,
    "start_time": "2024-08-15T17:23:14.337Z"
   },
   {
    "duration": 888,
    "start_time": "2024-08-15T17:23:21.196Z"
   },
   {
    "duration": 893,
    "start_time": "2024-08-15T17:23:28.485Z"
   },
   {
    "duration": 11,
    "start_time": "2024-08-15T17:23:34.477Z"
   },
   {
    "duration": 12,
    "start_time": "2024-08-15T17:23:37.524Z"
   },
   {
    "duration": 14,
    "start_time": "2024-08-15T17:24:06.208Z"
   },
   {
    "duration": 25,
    "start_time": "2024-08-15T17:24:17.546Z"
   },
   {
    "duration": 21,
    "start_time": "2024-08-15T17:24:49.960Z"
   },
   {
    "duration": 19,
    "start_time": "2024-08-15T17:25:10.527Z"
   },
   {
    "duration": 12,
    "start_time": "2024-08-15T17:25:57.827Z"
   },
   {
    "duration": 15,
    "start_time": "2024-08-15T17:27:12.214Z"
   },
   {
    "duration": 13,
    "start_time": "2024-08-15T17:28:18.826Z"
   },
   {
    "duration": 16,
    "start_time": "2024-08-15T17:28:25.504Z"
   },
   {
    "duration": 266,
    "start_time": "2024-08-15T17:29:02.787Z"
   },
   {
    "duration": 12,
    "start_time": "2024-08-15T17:29:24.140Z"
   },
   {
    "duration": 6,
    "start_time": "2024-08-15T17:30:24.502Z"
   },
   {
    "duration": 9,
    "start_time": "2024-08-15T17:30:43.649Z"
   },
   {
    "duration": 1293,
    "start_time": "2024-08-16T13:29:53.177Z"
   },
   {
    "duration": 185,
    "start_time": "2024-08-16T13:29:54.472Z"
   },
   {
    "duration": 14,
    "start_time": "2024-08-16T13:29:54.659Z"
   },
   {
    "duration": 12,
    "start_time": "2024-08-16T13:29:54.675Z"
   },
   {
    "duration": 22,
    "start_time": "2024-08-16T13:29:54.688Z"
   },
   {
    "duration": 98,
    "start_time": "2024-08-16T13:29:54.712Z"
   },
   {
    "duration": 8,
    "start_time": "2024-08-16T13:29:54.812Z"
   },
   {
    "duration": 25,
    "start_time": "2024-08-16T13:29:54.822Z"
   },
   {
    "duration": 4,
    "start_time": "2024-08-16T13:29:54.849Z"
   },
   {
    "duration": 38,
    "start_time": "2024-08-16T13:29:54.855Z"
   },
   {
    "duration": 152,
    "start_time": "2024-08-16T13:29:54.895Z"
   },
   {
    "duration": 9,
    "start_time": "2024-08-16T13:29:55.048Z"
   },
   {
    "duration": 291,
    "start_time": "2024-08-16T13:29:55.058Z"
   },
   {
    "duration": 16,
    "start_time": "2024-08-16T13:29:55.351Z"
   },
   {
    "duration": 368,
    "start_time": "2024-08-16T13:29:55.369Z"
   },
   {
    "duration": 238,
    "start_time": "2024-08-16T13:29:55.739Z"
   },
   {
    "duration": 144,
    "start_time": "2024-08-16T13:29:55.978Z"
   },
   {
    "duration": 230,
    "start_time": "2024-08-16T13:29:56.124Z"
   },
   {
    "duration": 12,
    "start_time": "2024-08-16T13:29:56.356Z"
   },
   {
    "duration": 88,
    "start_time": "2024-08-16T13:29:56.370Z"
   },
   {
    "duration": 11,
    "start_time": "2024-08-16T13:30:37.773Z"
   },
   {
    "duration": 13,
    "start_time": "2024-08-16T13:30:43.093Z"
   },
   {
    "duration": 11,
    "start_time": "2024-08-16T13:30:45.297Z"
   },
   {
    "duration": 28,
    "start_time": "2024-08-16T13:30:58.648Z"
   },
   {
    "duration": 12,
    "start_time": "2024-08-16T13:31:18.021Z"
   },
   {
    "duration": 155,
    "start_time": "2024-08-16T13:36:16.948Z"
   },
   {
    "duration": 128,
    "start_time": "2024-08-16T13:36:30.190Z"
   },
   {
    "duration": 135,
    "start_time": "2024-08-16T13:36:47.238Z"
   },
   {
    "duration": 11,
    "start_time": "2024-08-16T13:37:20.792Z"
   },
   {
    "duration": 11,
    "start_time": "2024-08-16T13:37:31.993Z"
   },
   {
    "duration": 118,
    "start_time": "2024-08-16T13:40:19.144Z"
   },
   {
    "duration": 5,
    "start_time": "2024-08-16T13:40:29.540Z"
   },
   {
    "duration": 124,
    "start_time": "2024-08-16T13:40:39.104Z"
   },
   {
    "duration": 112,
    "start_time": "2024-08-16T13:40:58.314Z"
   },
   {
    "duration": 6,
    "start_time": "2024-08-16T13:41:16.149Z"
   },
   {
    "duration": 98,
    "start_time": "2024-08-16T13:42:12.170Z"
   },
   {
    "duration": 7,
    "start_time": "2024-08-16T13:42:19.211Z"
   },
   {
    "duration": 7,
    "start_time": "2024-08-16T13:42:27.414Z"
   },
   {
    "duration": 8,
    "start_time": "2024-08-16T13:42:34.747Z"
   },
   {
    "duration": 8,
    "start_time": "2024-08-16T13:43:07.600Z"
   },
   {
    "duration": 7,
    "start_time": "2024-08-16T13:43:12.421Z"
   },
   {
    "duration": 10,
    "start_time": "2024-08-16T14:04:59.674Z"
   },
   {
    "duration": 5,
    "start_time": "2024-08-16T14:05:20.900Z"
   },
   {
    "duration": 7,
    "start_time": "2024-08-16T14:05:30.308Z"
   },
   {
    "duration": 6,
    "start_time": "2024-08-16T14:05:40.667Z"
   },
   {
    "duration": 117,
    "start_time": "2024-08-16T14:05:43.526Z"
   },
   {
    "duration": 142,
    "start_time": "2024-08-16T14:05:50.049Z"
   },
   {
    "duration": 125,
    "start_time": "2024-08-16T14:05:58.210Z"
   },
   {
    "duration": 126,
    "start_time": "2024-08-16T14:06:14.749Z"
   },
   {
    "duration": 131,
    "start_time": "2024-08-16T14:06:23.637Z"
   },
   {
    "duration": 201,
    "start_time": "2024-08-16T14:06:52.369Z"
   },
   {
    "duration": 148,
    "start_time": "2024-08-16T14:08:34.427Z"
   },
   {
    "duration": 142,
    "start_time": "2024-08-16T14:09:22.219Z"
   },
   {
    "duration": 146,
    "start_time": "2024-08-16T14:09:36.767Z"
   },
   {
    "duration": 148,
    "start_time": "2024-08-16T14:10:37.972Z"
   },
   {
    "duration": 163,
    "start_time": "2024-08-16T14:10:51.828Z"
   },
   {
    "duration": 149,
    "start_time": "2024-08-16T14:10:56.229Z"
   },
   {
    "duration": 163,
    "start_time": "2024-08-16T14:11:48.957Z"
   },
   {
    "duration": 169,
    "start_time": "2024-08-16T14:11:59.025Z"
   },
   {
    "duration": 170,
    "start_time": "2024-08-16T14:12:00.788Z"
   },
   {
    "duration": 156,
    "start_time": "2024-08-16T14:12:03.345Z"
   },
   {
    "duration": 163,
    "start_time": "2024-08-16T14:12:05.347Z"
   },
   {
    "duration": 128,
    "start_time": "2024-08-16T14:13:21.676Z"
   },
   {
    "duration": 129,
    "start_time": "2024-08-16T14:13:41.433Z"
   },
   {
    "duration": 12,
    "start_time": "2024-08-16T14:14:00.251Z"
   },
   {
    "duration": 135,
    "start_time": "2024-08-16T14:14:08.483Z"
   },
   {
    "duration": 235,
    "start_time": "2024-08-16T14:16:52.825Z"
   },
   {
    "duration": 440,
    "start_time": "2024-08-16T14:17:27.947Z"
   },
   {
    "duration": 272,
    "start_time": "2024-08-16T14:17:42.043Z"
   },
   {
    "duration": 331,
    "start_time": "2024-08-16T14:18:06.509Z"
   },
   {
    "duration": 323,
    "start_time": "2024-08-16T14:18:16.839Z"
   },
   {
    "duration": 154,
    "start_time": "2024-08-16T14:37:34.425Z"
   },
   {
    "duration": 143,
    "start_time": "2024-08-16T14:37:57.927Z"
   },
   {
    "duration": 134,
    "start_time": "2024-08-16T14:38:05.604Z"
   },
   {
    "duration": 127,
    "start_time": "2024-08-16T14:38:17.839Z"
   },
   {
    "duration": 118,
    "start_time": "2024-08-16T14:38:41.015Z"
   },
   {
    "duration": 127,
    "start_time": "2024-08-16T14:38:49.216Z"
   },
   {
    "duration": 130,
    "start_time": "2024-08-16T14:38:56.703Z"
   },
   {
    "duration": 130,
    "start_time": "2024-08-16T14:39:14.882Z"
   },
   {
    "duration": 124,
    "start_time": "2024-08-16T14:39:38.696Z"
   },
   {
    "duration": 127,
    "start_time": "2024-08-16T14:39:54.611Z"
   },
   {
    "duration": 123,
    "start_time": "2024-08-16T14:40:03.968Z"
   },
   {
    "duration": 279,
    "start_time": "2024-08-16T14:40:22.568Z"
   },
   {
    "duration": 139,
    "start_time": "2024-08-16T14:40:29.381Z"
   },
   {
    "duration": 121,
    "start_time": "2024-08-16T14:40:49.260Z"
   },
   {
    "duration": 153,
    "start_time": "2024-08-16T14:41:00.714Z"
   },
   {
    "duration": 11,
    "start_time": "2024-08-16T15:00:10.182Z"
   },
   {
    "duration": 121,
    "start_time": "2024-08-16T15:00:14.633Z"
   },
   {
    "duration": 119,
    "start_time": "2024-08-16T15:00:32.348Z"
   },
   {
    "duration": 103,
    "start_time": "2024-08-16T15:00:38.387Z"
   },
   {
    "duration": 119,
    "start_time": "2024-08-16T15:00:49.251Z"
   },
   {
    "duration": 109,
    "start_time": "2024-08-16T15:01:03.067Z"
   },
   {
    "duration": 10,
    "start_time": "2024-08-16T15:01:08.157Z"
   },
   {
    "duration": 115,
    "start_time": "2024-08-16T15:01:14.758Z"
   },
   {
    "duration": 100,
    "start_time": "2024-08-16T15:01:22.392Z"
   },
   {
    "duration": 109,
    "start_time": "2024-08-16T15:02:16.599Z"
   },
   {
    "duration": 118,
    "start_time": "2024-08-16T15:02:32.834Z"
   },
   {
    "duration": 108,
    "start_time": "2024-08-16T15:02:52.682Z"
   },
   {
    "duration": 104,
    "start_time": "2024-08-16T15:03:03.098Z"
   },
   {
    "duration": 117,
    "start_time": "2024-08-16T15:09:26.764Z"
   },
   {
    "duration": 114,
    "start_time": "2024-08-16T15:09:48.454Z"
   },
   {
    "duration": 13,
    "start_time": "2024-08-16T15:11:14.811Z"
   },
   {
    "duration": 31,
    "start_time": "2024-08-16T15:11:26.598Z"
   },
   {
    "duration": 27,
    "start_time": "2024-08-16T15:11:39.476Z"
   },
   {
    "duration": 16,
    "start_time": "2024-08-16T15:12:01.364Z"
   },
   {
    "duration": 156,
    "start_time": "2024-08-16T15:13:26.731Z"
   },
   {
    "duration": 124,
    "start_time": "2024-08-16T15:13:43.599Z"
   },
   {
    "duration": 117,
    "start_time": "2024-08-16T15:13:47.701Z"
   },
   {
    "duration": 126,
    "start_time": "2024-08-16T15:14:10.164Z"
   },
   {
    "duration": 137,
    "start_time": "2024-08-16T15:14:45.272Z"
   },
   {
    "duration": 159,
    "start_time": "2024-08-16T15:15:08.946Z"
   },
   {
    "duration": 286,
    "start_time": "2024-08-16T15:15:16.056Z"
   },
   {
    "duration": 5530,
    "start_time": "2024-08-17T13:07:59.281Z"
   },
   {
    "duration": 225,
    "start_time": "2024-08-17T13:08:04.813Z"
   },
   {
    "duration": 14,
    "start_time": "2024-08-17T13:08:05.039Z"
   },
   {
    "duration": 2,
    "start_time": "2024-08-17T13:08:05.054Z"
   },
   {
    "duration": 26,
    "start_time": "2024-08-17T13:08:05.058Z"
   },
   {
    "duration": 88,
    "start_time": "2024-08-17T13:08:05.085Z"
   },
   {
    "duration": 8,
    "start_time": "2024-08-17T13:08:05.175Z"
   },
   {
    "duration": 16,
    "start_time": "2024-08-17T13:08:05.184Z"
   },
   {
    "duration": 18,
    "start_time": "2024-08-17T13:08:05.201Z"
   },
   {
    "duration": 20,
    "start_time": "2024-08-17T13:08:05.220Z"
   },
   {
    "duration": 148,
    "start_time": "2024-08-17T13:08:05.241Z"
   },
   {
    "duration": 8,
    "start_time": "2024-08-17T13:08:05.390Z"
   },
   {
    "duration": 244,
    "start_time": "2024-08-17T13:08:05.399Z"
   },
   {
    "duration": 15,
    "start_time": "2024-08-17T13:08:05.645Z"
   },
   {
    "duration": 323,
    "start_time": "2024-08-17T13:08:05.661Z"
   },
   {
    "duration": 222,
    "start_time": "2024-08-17T13:08:05.985Z"
   },
   {
    "duration": 9,
    "start_time": "2024-08-17T13:08:46.500Z"
   },
   {
    "duration": 6,
    "start_time": "2024-08-17T13:09:15.681Z"
   },
   {
    "duration": 8,
    "start_time": "2024-08-17T13:10:32.676Z"
   },
   {
    "duration": 294,
    "start_time": "2024-08-17T13:11:02.974Z"
   },
   {
    "duration": 25,
    "start_time": "2024-08-17T13:11:18.359Z"
   },
   {
    "duration": 52,
    "start_time": "2024-08-17T13:11:23.615Z"
   },
   {
    "duration": 34,
    "start_time": "2024-08-17T13:11:28.617Z"
   },
   {
    "duration": 11,
    "start_time": "2024-08-17T13:11:37.264Z"
   },
   {
    "duration": 14,
    "start_time": "2024-08-17T13:11:44.824Z"
   },
   {
    "duration": 241,
    "start_time": "2024-08-17T13:12:03.080Z"
   },
   {
    "duration": 13,
    "start_time": "2024-08-17T13:12:12.919Z"
   },
   {
    "duration": 231,
    "start_time": "2024-08-17T13:12:59.505Z"
   },
   {
    "duration": 222,
    "start_time": "2024-08-17T13:14:39.181Z"
   },
   {
    "duration": 155,
    "start_time": "2024-08-17T13:15:01.140Z"
   },
   {
    "duration": 144,
    "start_time": "2024-08-17T13:15:04.533Z"
   },
   {
    "duration": 11,
    "start_time": "2024-08-17T13:15:07.344Z"
   },
   {
    "duration": 11,
    "start_time": "2024-08-17T13:15:08.541Z"
   },
   {
    "duration": 137,
    "start_time": "2024-08-17T13:15:21.735Z"
   },
   {
    "duration": 138,
    "start_time": "2024-08-17T13:15:24.244Z"
   },
   {
    "duration": 9,
    "start_time": "2024-08-17T13:15:26.664Z"
   },
   {
    "duration": 11,
    "start_time": "2024-08-17T13:15:27.722Z"
   },
   {
    "duration": 5,
    "start_time": "2024-08-17T13:16:01.642Z"
   },
   {
    "duration": 6,
    "start_time": "2024-08-17T13:16:03.737Z"
   },
   {
    "duration": 213,
    "start_time": "2024-08-17T13:16:39.121Z"
   },
   {
    "duration": 110,
    "start_time": "2024-08-17T13:16:43.277Z"
   },
   {
    "duration": 127,
    "start_time": "2024-08-17T13:16:46.303Z"
   },
   {
    "duration": 116,
    "start_time": "2024-08-17T13:16:53.640Z"
   },
   {
    "duration": 124,
    "start_time": "2024-08-17T13:16:59.732Z"
   },
   {
    "duration": 115,
    "start_time": "2024-08-17T13:17:06.110Z"
   },
   {
    "duration": 139,
    "start_time": "2024-08-17T13:19:32.249Z"
   },
   {
    "duration": 117,
    "start_time": "2024-08-17T13:19:34.521Z"
   },
   {
    "duration": 134,
    "start_time": "2024-08-17T13:19:39.331Z"
   },
   {
    "duration": 223,
    "start_time": "2024-08-17T13:24:30.652Z"
   },
   {
    "duration": 3,
    "start_time": "2024-08-17T13:25:51.617Z"
   },
   {
    "duration": 3,
    "start_time": "2024-08-17T13:26:02.307Z"
   },
   {
    "duration": 6,
    "start_time": "2024-08-17T13:27:17.633Z"
   },
   {
    "duration": 10,
    "start_time": "2024-08-17T13:27:37.119Z"
   },
   {
    "duration": 15,
    "start_time": "2024-08-17T13:30:24.155Z"
   },
   {
    "duration": 16,
    "start_time": "2024-08-17T13:31:16.686Z"
   },
   {
    "duration": 14,
    "start_time": "2024-08-17T13:31:23.532Z"
   },
   {
    "duration": 14,
    "start_time": "2024-08-17T13:31:25.787Z"
   },
   {
    "duration": 14,
    "start_time": "2024-08-17T13:39:35.472Z"
   },
   {
    "duration": 14,
    "start_time": "2024-08-17T13:40:22.483Z"
   },
   {
    "duration": 15,
    "start_time": "2024-08-17T13:40:25.576Z"
   },
   {
    "duration": 14,
    "start_time": "2024-08-17T13:40:34.990Z"
   },
   {
    "duration": 158,
    "start_time": "2024-08-17T14:03:03.194Z"
   },
   {
    "duration": 4,
    "start_time": "2024-08-17T14:03:10.750Z"
   },
   {
    "duration": 94,
    "start_time": "2024-08-17T14:03:10.756Z"
   },
   {
    "duration": 14,
    "start_time": "2024-08-17T14:03:10.851Z"
   },
   {
    "duration": 30,
    "start_time": "2024-08-17T14:03:10.867Z"
   },
   {
    "duration": 41,
    "start_time": "2024-08-17T14:03:10.899Z"
   },
   {
    "duration": 95,
    "start_time": "2024-08-17T14:03:10.941Z"
   },
   {
    "duration": 10,
    "start_time": "2024-08-17T14:03:11.037Z"
   },
   {
    "duration": 29,
    "start_time": "2024-08-17T14:03:11.048Z"
   },
   {
    "duration": 30,
    "start_time": "2024-08-17T14:03:11.079Z"
   },
   {
    "duration": 19,
    "start_time": "2024-08-17T14:03:11.111Z"
   },
   {
    "duration": 145,
    "start_time": "2024-08-17T14:03:15.626Z"
   },
   {
    "duration": 3,
    "start_time": "2024-08-17T14:17:25.242Z"
   },
   {
    "duration": 77,
    "start_time": "2024-08-17T14:17:25.247Z"
   },
   {
    "duration": 15,
    "start_time": "2024-08-17T14:17:25.326Z"
   },
   {
    "duration": 3,
    "start_time": "2024-08-17T14:17:25.343Z"
   },
   {
    "duration": 20,
    "start_time": "2024-08-17T14:17:25.348Z"
   },
   {
    "duration": 125,
    "start_time": "2024-08-17T14:17:25.369Z"
   },
   {
    "duration": 14,
    "start_time": "2024-08-17T14:17:25.495Z"
   },
   {
    "duration": 12,
    "start_time": "2024-08-17T14:17:25.510Z"
   },
   {
    "duration": 13,
    "start_time": "2024-08-17T14:17:25.525Z"
   },
   {
    "duration": 4,
    "start_time": "2024-08-17T14:17:25.539Z"
   },
   {
    "duration": 153,
    "start_time": "2024-08-17T14:17:25.544Z"
   },
   {
    "duration": 11,
    "start_time": "2024-08-17T14:17:25.698Z"
   },
   {
    "duration": 244,
    "start_time": "2024-08-17T14:17:25.710Z"
   },
   {
    "duration": 16,
    "start_time": "2024-08-17T14:17:25.955Z"
   },
   {
    "duration": 412,
    "start_time": "2024-08-17T14:17:25.972Z"
   },
   {
    "duration": 231,
    "start_time": "2024-08-17T14:17:26.385Z"
   },
   {
    "duration": 218,
    "start_time": "2024-08-17T14:17:26.617Z"
   },
   {
    "duration": 163,
    "start_time": "2024-08-17T14:17:26.836Z"
   },
   {
    "duration": 167,
    "start_time": "2024-08-17T14:17:27.000Z"
   },
   {
    "duration": 11,
    "start_time": "2024-08-17T14:17:27.168Z"
   },
   {
    "duration": 22,
    "start_time": "2024-08-17T14:17:27.180Z"
   },
   {
    "duration": 174,
    "start_time": "2024-08-17T14:17:27.206Z"
   },
   {
    "duration": 148,
    "start_time": "2024-08-17T14:17:27.382Z"
   },
   {
    "duration": 10,
    "start_time": "2024-08-17T14:17:27.533Z"
   },
   {
    "duration": 24,
    "start_time": "2024-08-17T14:17:27.544Z"
   },
   {
    "duration": 19,
    "start_time": "2024-08-17T14:17:27.569Z"
   },
   {
    "duration": 18,
    "start_time": "2024-08-17T14:17:27.589Z"
   },
   {
    "duration": 151,
    "start_time": "2024-08-17T14:17:27.609Z"
   },
   {
    "duration": 123,
    "start_time": "2024-08-17T14:17:27.762Z"
   },
   {
    "duration": 139,
    "start_time": "2024-08-17T14:17:27.887Z"
   },
   {
    "duration": 134,
    "start_time": "2024-08-17T14:17:28.028Z"
   },
   {
    "duration": 146,
    "start_time": "2024-08-17T14:17:28.163Z"
   },
   {
    "duration": 132,
    "start_time": "2024-08-17T14:17:28.310Z"
   },
   {
    "duration": 135,
    "start_time": "2024-08-17T14:17:28.443Z"
   },
   {
    "duration": 122,
    "start_time": "2024-08-17T14:17:28.579Z"
   },
   {
    "duration": 141,
    "start_time": "2024-08-17T14:17:28.708Z"
   },
   {
    "duration": 15,
    "start_time": "2024-08-17T14:17:28.851Z"
   },
   {
    "duration": 16,
    "start_time": "2024-08-17T14:17:28.867Z"
   },
   {
    "duration": 1378,
    "start_time": "2024-08-17T16:44:08.819Z"
   },
   {
    "duration": 222,
    "start_time": "2024-08-17T16:44:10.199Z"
   },
   {
    "duration": 16,
    "start_time": "2024-08-17T16:44:10.423Z"
   },
   {
    "duration": 4,
    "start_time": "2024-08-17T16:44:10.440Z"
   },
   {
    "duration": 34,
    "start_time": "2024-08-17T16:44:10.445Z"
   },
   {
    "duration": 108,
    "start_time": "2024-08-17T16:44:10.481Z"
   },
   {
    "duration": 9,
    "start_time": "2024-08-17T16:44:10.591Z"
   },
   {
    "duration": 22,
    "start_time": "2024-08-17T16:44:10.601Z"
   },
   {
    "duration": 22,
    "start_time": "2024-08-17T16:44:10.625Z"
   },
   {
    "duration": 5,
    "start_time": "2024-08-17T16:44:10.650Z"
   },
   {
    "duration": 188,
    "start_time": "2024-08-17T16:44:10.656Z"
   },
   {
    "duration": 11,
    "start_time": "2024-08-17T16:44:10.846Z"
   },
   {
    "duration": 317,
    "start_time": "2024-08-17T16:44:10.860Z"
   },
   {
    "duration": 14,
    "start_time": "2024-08-17T16:44:11.179Z"
   },
   {
    "duration": 390,
    "start_time": "2024-08-17T16:44:11.195Z"
   },
   {
    "duration": 242,
    "start_time": "2024-08-17T16:44:11.586Z"
   },
   {
    "duration": 262,
    "start_time": "2024-08-17T16:44:11.829Z"
   },
   {
    "duration": 270,
    "start_time": "2024-08-17T16:44:12.093Z"
   },
   {
    "duration": 168,
    "start_time": "2024-08-17T16:44:12.365Z"
   },
   {
    "duration": 20,
    "start_time": "2024-08-17T16:44:12.535Z"
   },
   {
    "duration": 20,
    "start_time": "2024-08-17T16:44:12.556Z"
   },
   {
    "duration": 149,
    "start_time": "2024-08-17T16:44:12.577Z"
   },
   {
    "duration": 158,
    "start_time": "2024-08-17T16:44:12.728Z"
   },
   {
    "duration": 10,
    "start_time": "2024-08-17T16:44:12.887Z"
   },
   {
    "duration": 22,
    "start_time": "2024-08-17T16:44:12.899Z"
   },
   {
    "duration": 5,
    "start_time": "2024-08-17T16:44:12.923Z"
   },
   {
    "duration": 23,
    "start_time": "2024-08-17T16:44:12.929Z"
   },
   {
    "duration": 146,
    "start_time": "2024-08-17T16:44:12.960Z"
   },
   {
    "duration": 122,
    "start_time": "2024-08-17T16:44:13.108Z"
   },
   {
    "duration": 146,
    "start_time": "2024-08-17T16:44:13.231Z"
   },
   {
    "duration": 138,
    "start_time": "2024-08-17T16:44:13.378Z"
   },
   {
    "duration": 153,
    "start_time": "2024-08-17T16:44:13.517Z"
   },
   {
    "duration": 161,
    "start_time": "2024-08-17T16:44:13.672Z"
   },
   {
    "duration": 158,
    "start_time": "2024-08-17T16:44:13.835Z"
   },
   {
    "duration": 155,
    "start_time": "2024-08-17T16:44:13.995Z"
   },
   {
    "duration": 153,
    "start_time": "2024-08-17T16:44:14.152Z"
   },
   {
    "duration": 16,
    "start_time": "2024-08-17T16:44:14.306Z"
   },
   {
    "duration": 35,
    "start_time": "2024-08-17T16:44:14.324Z"
   },
   {
    "duration": 1378,
    "start_time": "2024-08-19T07:40:34.073Z"
   },
   {
    "duration": 225,
    "start_time": "2024-08-19T07:40:35.453Z"
   },
   {
    "duration": 14,
    "start_time": "2024-08-19T07:40:35.680Z"
   },
   {
    "duration": 22,
    "start_time": "2024-08-19T07:40:35.696Z"
   },
   {
    "duration": 29,
    "start_time": "2024-08-19T07:40:35.720Z"
   },
   {
    "duration": 7,
    "start_time": "2024-08-19T07:40:38.105Z"
   },
   {
    "duration": 2,
    "start_time": "2024-08-19T07:43:26.837Z"
   },
   {
    "duration": 87,
    "start_time": "2024-08-19T07:43:26.841Z"
   },
   {
    "duration": 14,
    "start_time": "2024-08-19T07:43:26.930Z"
   },
   {
    "duration": 3,
    "start_time": "2024-08-19T07:43:26.946Z"
   },
   {
    "duration": 29,
    "start_time": "2024-08-19T07:43:26.950Z"
   },
   {
    "duration": 5,
    "start_time": "2024-08-19T07:43:26.980Z"
   },
   {
    "duration": 134,
    "start_time": "2024-08-19T07:43:26.986Z"
   },
   {
    "duration": 0,
    "start_time": "2024-08-19T07:43:27.122Z"
   },
   {
    "duration": 0,
    "start_time": "2024-08-19T07:43:27.123Z"
   },
   {
    "duration": 1148,
    "start_time": "2024-08-19T07:43:54.805Z"
   },
   {
    "duration": 73,
    "start_time": "2024-08-19T07:43:55.956Z"
   },
   {
    "duration": 17,
    "start_time": "2024-08-19T07:43:56.031Z"
   },
   {
    "duration": 3,
    "start_time": "2024-08-19T07:43:56.050Z"
   },
   {
    "duration": 23,
    "start_time": "2024-08-19T07:43:56.055Z"
   },
   {
    "duration": 5,
    "start_time": "2024-08-19T07:43:56.079Z"
   },
   {
    "duration": 134,
    "start_time": "2024-08-19T07:43:56.085Z"
   },
   {
    "duration": 0,
    "start_time": "2024-08-19T07:43:56.221Z"
   },
   {
    "duration": 7,
    "start_time": "2024-08-19T07:44:40.542Z"
   },
   {
    "duration": 13,
    "start_time": "2024-08-19T07:44:43.950Z"
   },
   {
    "duration": 15,
    "start_time": "2024-08-19T07:44:55.213Z"
   },
   {
    "duration": 6,
    "start_time": "2024-08-19T07:45:06.688Z"
   },
   {
    "duration": 6,
    "start_time": "2024-08-19T07:45:12.656Z"
   },
   {
    "duration": 7,
    "start_time": "2024-08-19T07:46:02.970Z"
   },
   {
    "duration": 18,
    "start_time": "2024-08-19T07:46:27.990Z"
   },
   {
    "duration": 10,
    "start_time": "2024-08-19T07:46:36.049Z"
   },
   {
    "duration": 11,
    "start_time": "2024-08-19T07:47:09.009Z"
   },
   {
    "duration": 14,
    "start_time": "2024-08-19T07:47:26.523Z"
   },
   {
    "duration": 10,
    "start_time": "2024-08-19T07:47:30.993Z"
   },
   {
    "duration": 11,
    "start_time": "2024-08-19T07:48:09.185Z"
   },
   {
    "duration": 11,
    "start_time": "2024-08-19T07:48:13.579Z"
   },
   {
    "duration": 13,
    "start_time": "2024-08-19T07:48:17.282Z"
   },
   {
    "duration": 10,
    "start_time": "2024-08-19T07:48:20.298Z"
   },
   {
    "duration": 23,
    "start_time": "2024-08-19T07:49:46.401Z"
   },
   {
    "duration": 68,
    "start_time": "2024-08-19T07:49:51.184Z"
   },
   {
    "duration": 19,
    "start_time": "2024-08-19T07:49:58.952Z"
   },
   {
    "duration": 14,
    "start_time": "2024-08-19T07:50:08.942Z"
   },
   {
    "duration": 8,
    "start_time": "2024-08-19T07:50:13.792Z"
   },
   {
    "duration": 284,
    "start_time": "2024-08-19T07:50:30.984Z"
   },
   {
    "duration": 13,
    "start_time": "2024-08-19T07:51:13.861Z"
   },
   {
    "duration": 18,
    "start_time": "2024-08-19T07:52:32.140Z"
   },
   {
    "duration": 10,
    "start_time": "2024-08-19T07:52:54.435Z"
   },
   {
    "duration": 10,
    "start_time": "2024-08-19T07:53:10.517Z"
   },
   {
    "duration": 24,
    "start_time": "2024-08-19T07:53:51.637Z"
   },
   {
    "duration": 39,
    "start_time": "2024-08-19T07:53:59.113Z"
   },
   {
    "duration": 16,
    "start_time": "2024-08-19T07:54:39.338Z"
   },
   {
    "duration": 4,
    "start_time": "2024-08-19T07:54:42.773Z"
   },
   {
    "duration": 84,
    "start_time": "2024-08-19T07:54:42.779Z"
   },
   {
    "duration": 17,
    "start_time": "2024-08-19T07:54:42.865Z"
   },
   {
    "duration": 6,
    "start_time": "2024-08-19T07:54:42.885Z"
   },
   {
    "duration": 48,
    "start_time": "2024-08-19T07:54:42.894Z"
   },
   {
    "duration": 5,
    "start_time": "2024-08-19T07:54:42.944Z"
   },
   {
    "duration": 27,
    "start_time": "2024-08-19T07:54:42.951Z"
   },
   {
    "duration": 45,
    "start_time": "2024-08-19T07:54:42.980Z"
   },
   {
    "duration": 30,
    "start_time": "2024-08-19T07:54:43.027Z"
   },
   {
    "duration": 40,
    "start_time": "2024-08-19T07:54:43.058Z"
   },
   {
    "duration": 4,
    "start_time": "2024-08-19T07:54:43.100Z"
   },
   {
    "duration": 188,
    "start_time": "2024-08-19T07:54:43.106Z"
   },
   {
    "duration": 12,
    "start_time": "2024-08-19T07:54:43.296Z"
   },
   {
    "duration": 272,
    "start_time": "2024-08-19T07:54:43.311Z"
   },
   {
    "duration": 24,
    "start_time": "2024-08-19T07:54:43.585Z"
   },
   {
    "duration": 340,
    "start_time": "2024-08-19T07:54:43.610Z"
   },
   {
    "duration": 250,
    "start_time": "2024-08-19T07:54:43.952Z"
   },
   {
    "duration": 248,
    "start_time": "2024-08-19T07:54:44.206Z"
   },
   {
    "duration": 265,
    "start_time": "2024-08-19T07:54:44.455Z"
   },
   {
    "duration": 186,
    "start_time": "2024-08-19T07:54:44.721Z"
   },
   {
    "duration": 11,
    "start_time": "2024-08-19T07:54:44.909Z"
   },
   {
    "duration": 30,
    "start_time": "2024-08-19T07:54:44.921Z"
   },
   {
    "duration": 163,
    "start_time": "2024-08-19T07:54:44.953Z"
   },
   {
    "duration": 160,
    "start_time": "2024-08-19T07:54:45.117Z"
   },
   {
    "duration": 12,
    "start_time": "2024-08-19T07:54:45.279Z"
   },
   {
    "duration": 33,
    "start_time": "2024-08-19T07:54:45.292Z"
   },
   {
    "duration": 29,
    "start_time": "2024-08-19T07:54:45.327Z"
   },
   {
    "duration": 7,
    "start_time": "2024-08-19T07:54:48.418Z"
   },
   {
    "duration": 8,
    "start_time": "2024-08-19T07:57:43.549Z"
   },
   {
    "duration": 5,
    "start_time": "2024-08-19T07:57:50.493Z"
   },
   {
    "duration": 3,
    "start_time": "2024-08-19T07:57:59.164Z"
   },
   {
    "duration": 81,
    "start_time": "2024-08-19T07:57:59.168Z"
   },
   {
    "duration": 13,
    "start_time": "2024-08-19T07:57:59.251Z"
   },
   {
    "duration": 3,
    "start_time": "2024-08-19T07:57:59.266Z"
   },
   {
    "duration": 43,
    "start_time": "2024-08-19T07:57:59.271Z"
   },
   {
    "duration": 5,
    "start_time": "2024-08-19T07:57:59.316Z"
   },
   {
    "duration": 16,
    "start_time": "2024-08-19T07:57:59.322Z"
   },
   {
    "duration": 12,
    "start_time": "2024-08-19T07:57:59.340Z"
   },
   {
    "duration": 14,
    "start_time": "2024-08-19T07:57:59.355Z"
   },
   {
    "duration": 46,
    "start_time": "2024-08-19T07:57:59.370Z"
   },
   {
    "duration": 5,
    "start_time": "2024-08-19T07:57:59.417Z"
   },
   {
    "duration": 167,
    "start_time": "2024-08-19T07:57:59.424Z"
   },
   {
    "duration": 16,
    "start_time": "2024-08-19T07:57:59.592Z"
   },
   {
    "duration": 269,
    "start_time": "2024-08-19T07:57:59.609Z"
   },
   {
    "duration": 27,
    "start_time": "2024-08-19T07:57:59.880Z"
   },
   {
    "duration": 344,
    "start_time": "2024-08-19T07:57:59.909Z"
   },
   {
    "duration": 258,
    "start_time": "2024-08-19T07:58:00.255Z"
   },
   {
    "duration": 260,
    "start_time": "2024-08-19T07:58:00.515Z"
   },
   {
    "duration": 278,
    "start_time": "2024-08-19T07:58:00.776Z"
   },
   {
    "duration": 171,
    "start_time": "2024-08-19T07:58:01.055Z"
   },
   {
    "duration": 11,
    "start_time": "2024-08-19T07:58:01.227Z"
   },
   {
    "duration": 57,
    "start_time": "2024-08-19T07:58:01.239Z"
   },
   {
    "duration": 203,
    "start_time": "2024-08-19T07:58:01.298Z"
   },
   {
    "duration": 159,
    "start_time": "2024-08-19T07:58:01.506Z"
   },
   {
    "duration": 12,
    "start_time": "2024-08-19T07:58:01.667Z"
   },
   {
    "duration": 52,
    "start_time": "2024-08-19T07:58:01.681Z"
   },
   {
    "duration": 35,
    "start_time": "2024-08-19T07:58:01.735Z"
   },
   {
    "duration": 102,
    "start_time": "2024-08-19T07:58:01.771Z"
   },
   {
    "duration": 166,
    "start_time": "2024-08-19T07:58:01.875Z"
   },
   {
    "duration": 133,
    "start_time": "2024-08-19T07:58:02.043Z"
   },
   {
    "duration": 143,
    "start_time": "2024-08-19T07:58:02.177Z"
   },
   {
    "duration": 151,
    "start_time": "2024-08-19T07:58:02.323Z"
   },
   {
    "duration": 154,
    "start_time": "2024-08-19T07:58:02.477Z"
   },
   {
    "duration": 148,
    "start_time": "2024-08-19T07:58:02.633Z"
   },
   {
    "duration": 174,
    "start_time": "2024-08-19T07:58:02.783Z"
   },
   {
    "duration": 135,
    "start_time": "2024-08-19T07:58:02.958Z"
   },
   {
    "duration": 159,
    "start_time": "2024-08-19T07:58:03.095Z"
   },
   {
    "duration": 16,
    "start_time": "2024-08-19T07:58:03.255Z"
   },
   {
    "duration": 34,
    "start_time": "2024-08-19T07:58:03.273Z"
   },
   {
    "duration": 1165,
    "start_time": "2024-08-19T07:58:20.143Z"
   },
   {
    "duration": 73,
    "start_time": "2024-08-19T07:58:21.310Z"
   },
   {
    "duration": 15,
    "start_time": "2024-08-19T07:58:21.385Z"
   },
   {
    "duration": 68,
    "start_time": "2024-08-19T07:58:21.401Z"
   },
   {
    "duration": 33,
    "start_time": "2024-08-19T07:58:21.471Z"
   },
   {
    "duration": 18,
    "start_time": "2024-08-19T07:58:21.506Z"
   },
   {
    "duration": 25,
    "start_time": "2024-08-19T07:58:21.526Z"
   },
   {
    "duration": 67,
    "start_time": "2024-08-19T07:58:21.553Z"
   },
   {
    "duration": 47,
    "start_time": "2024-08-19T07:58:21.621Z"
   },
   {
    "duration": 39,
    "start_time": "2024-08-19T07:58:21.669Z"
   },
   {
    "duration": 17,
    "start_time": "2024-08-19T07:58:21.710Z"
   },
   {
    "duration": 181,
    "start_time": "2024-08-19T07:58:21.728Z"
   },
   {
    "duration": 7,
    "start_time": "2024-08-19T07:58:21.911Z"
   },
   {
    "duration": 290,
    "start_time": "2024-08-19T07:58:21.921Z"
   },
   {
    "duration": 15,
    "start_time": "2024-08-19T07:58:22.212Z"
   },
   {
    "duration": 341,
    "start_time": "2024-08-19T07:58:22.228Z"
   },
   {
    "duration": 260,
    "start_time": "2024-08-19T07:58:22.571Z"
   },
   {
    "duration": 274,
    "start_time": "2024-08-19T07:58:22.833Z"
   },
   {
    "duration": 247,
    "start_time": "2024-08-19T07:58:23.109Z"
   },
   {
    "duration": 158,
    "start_time": "2024-08-19T07:58:23.358Z"
   },
   {
    "duration": 10,
    "start_time": "2024-08-19T07:58:23.517Z"
   },
   {
    "duration": 28,
    "start_time": "2024-08-19T07:58:23.529Z"
   },
   {
    "duration": 253,
    "start_time": "2024-08-19T07:58:23.559Z"
   },
   {
    "duration": 155,
    "start_time": "2024-08-19T07:58:23.814Z"
   },
   {
    "duration": 12,
    "start_time": "2024-08-19T07:58:23.971Z"
   },
   {
    "duration": 30,
    "start_time": "2024-08-19T07:58:23.984Z"
   },
   {
    "duration": 14,
    "start_time": "2024-08-19T07:58:24.016Z"
   },
   {
    "duration": 20,
    "start_time": "2024-08-19T07:58:24.032Z"
   },
   {
    "duration": 146,
    "start_time": "2024-08-19T07:58:24.053Z"
   },
   {
    "duration": 125,
    "start_time": "2024-08-19T07:58:24.201Z"
   },
   {
    "duration": 156,
    "start_time": "2024-08-19T07:58:24.328Z"
   },
   {
    "duration": 156,
    "start_time": "2024-08-19T07:58:24.487Z"
   },
   {
    "duration": 145,
    "start_time": "2024-08-19T07:58:24.644Z"
   },
   {
    "duration": 140,
    "start_time": "2024-08-19T07:58:24.791Z"
   },
   {
    "duration": 145,
    "start_time": "2024-08-19T07:58:24.932Z"
   },
   {
    "duration": 151,
    "start_time": "2024-08-19T07:58:25.078Z"
   },
   {
    "duration": 156,
    "start_time": "2024-08-19T07:58:25.231Z"
   },
   {
    "duration": 24,
    "start_time": "2024-08-19T07:58:25.389Z"
   },
   {
    "duration": 30,
    "start_time": "2024-08-19T07:58:25.415Z"
   },
   {
    "duration": 8,
    "start_time": "2024-08-19T07:59:34.041Z"
   },
   {
    "duration": 4,
    "start_time": "2024-08-19T07:59:49.878Z"
   },
   {
    "duration": 8,
    "start_time": "2024-08-19T07:59:52.066Z"
   },
   {
    "duration": 7,
    "start_time": "2024-08-19T08:00:06.477Z"
   },
   {
    "duration": 17,
    "start_time": "2024-08-19T08:00:51.055Z"
   },
   {
    "duration": 17,
    "start_time": "2024-08-19T08:00:56.014Z"
   },
   {
    "duration": 19,
    "start_time": "2024-08-19T08:01:45.979Z"
   },
   {
    "duration": 19,
    "start_time": "2024-08-19T08:02:08.250Z"
   },
   {
    "duration": 1153,
    "start_time": "2024-08-19T09:49:48.720Z"
   },
   {
    "duration": 71,
    "start_time": "2024-08-19T09:49:49.875Z"
   },
   {
    "duration": 15,
    "start_time": "2024-08-19T09:49:49.947Z"
   },
   {
    "duration": 3,
    "start_time": "2024-08-19T09:49:49.964Z"
   },
   {
    "duration": 22,
    "start_time": "2024-08-19T09:49:49.969Z"
   },
   {
    "duration": 5,
    "start_time": "2024-08-19T09:49:49.992Z"
   },
   {
    "duration": 15,
    "start_time": "2024-08-19T09:49:49.999Z"
   },
   {
    "duration": 40,
    "start_time": "2024-08-19T09:49:50.016Z"
   },
   {
    "duration": 15,
    "start_time": "2024-08-19T09:49:50.058Z"
   },
   {
    "duration": 22,
    "start_time": "2024-08-19T09:49:50.074Z"
   },
   {
    "duration": 5,
    "start_time": "2024-08-19T09:49:50.098Z"
   },
   {
    "duration": 211,
    "start_time": "2024-08-19T09:49:50.104Z"
   },
   {
    "duration": 8,
    "start_time": "2024-08-19T09:49:50.316Z"
   },
   {
    "duration": 334,
    "start_time": "2024-08-19T09:49:50.327Z"
   },
   {
    "duration": 15,
    "start_time": "2024-08-19T09:49:50.663Z"
   },
   {
    "duration": 333,
    "start_time": "2024-08-19T09:49:50.680Z"
   },
   {
    "duration": 241,
    "start_time": "2024-08-19T09:49:51.015Z"
   },
   {
    "duration": 260,
    "start_time": "2024-08-19T09:49:51.257Z"
   },
   {
    "duration": 251,
    "start_time": "2024-08-19T09:49:51.519Z"
   },
   {
    "duration": 183,
    "start_time": "2024-08-19T09:49:51.772Z"
   },
   {
    "duration": 12,
    "start_time": "2024-08-19T09:49:51.958Z"
   },
   {
    "duration": 11,
    "start_time": "2024-08-19T09:49:51.972Z"
   },
   {
    "duration": 184,
    "start_time": "2024-08-19T09:49:51.984Z"
   },
   {
    "duration": 172,
    "start_time": "2024-08-19T09:49:52.170Z"
   },
   {
    "duration": 19,
    "start_time": "2024-08-19T09:49:52.343Z"
   },
   {
    "duration": 37,
    "start_time": "2024-08-19T09:49:52.364Z"
   },
   {
    "duration": 7,
    "start_time": "2024-08-19T09:49:52.402Z"
   },
   {
    "duration": 41,
    "start_time": "2024-08-19T09:49:52.410Z"
   },
   {
    "duration": 146,
    "start_time": "2024-08-19T09:49:52.453Z"
   },
   {
    "duration": 136,
    "start_time": "2024-08-19T09:49:52.600Z"
   },
   {
    "duration": 150,
    "start_time": "2024-08-19T09:49:52.737Z"
   },
   {
    "duration": 146,
    "start_time": "2024-08-19T09:49:52.889Z"
   },
   {
    "duration": 151,
    "start_time": "2024-08-19T09:49:53.037Z"
   },
   {
    "duration": 146,
    "start_time": "2024-08-19T09:49:53.190Z"
   },
   {
    "duration": 166,
    "start_time": "2024-08-19T09:49:53.337Z"
   },
   {
    "duration": 149,
    "start_time": "2024-08-19T09:49:53.505Z"
   },
   {
    "duration": 148,
    "start_time": "2024-08-19T09:49:53.656Z"
   },
   {
    "duration": 19,
    "start_time": "2024-08-19T09:49:53.806Z"
   },
   {
    "duration": 37,
    "start_time": "2024-08-19T09:49:53.827Z"
   }
  ],
  "kernelspec": {
   "display_name": "Python 3 (ipykernel)",
   "language": "python",
   "name": "python3"
  },
  "language_info": {
   "codemirror_mode": {
    "name": "ipython",
    "version": 3
   },
   "file_extension": ".py",
   "mimetype": "text/x-python",
   "name": "python",
   "nbconvert_exporter": "python",
   "pygments_lexer": "ipython3",
   "version": "3.12.4"
  },
  "toc": {
   "base_numbering": 1,
   "nav_menu": {
    "height": "162.99px",
    "width": "213px"
   },
   "number_sections": true,
   "sideBar": true,
   "skip_h1_title": true,
   "title_cell": "Table of Contents",
   "title_sidebar": "Contents",
   "toc_cell": false,
   "toc_position": {},
   "toc_section_display": true,
   "toc_window_display": false
  }
 },
 "nbformat": 4,
 "nbformat_minor": 4
}
